{
 "cells": [
  {
   "cell_type": "markdown",
   "metadata": {},
   "source": [
    "# SPRINT S8.01. Visualitzacions en Python"
   ]
  },
  {
   "cell_type": "markdown",
   "metadata": {},
   "source": [
    "Aquesta pràctica permetrà explorar com es poden utilitzar eines de visualització avançades en Python per a interpretar i presentar dades de manera efectiva, proporcionant una oportunitat valuosa per a millorar les habilitats analítiques i tècniques."
   ]
  },
  {
   "cell_type": "markdown",
   "metadata": {},
   "source": [
    "## NIVELL 1"
   ]
  },
  {
   "cell_type": "markdown",
   "metadata": {},
   "source": [
    "*Realitza la connexió en Python amb el MySQL Workbench per a carregar tota la informació que tens en les taules.*\n",
    "\n",
    "*Realitzaràs una visualització per a cada exercici. Comenta el que et crida l'atenció de graficar aquesta variable, justifica l'elecció del gràfic i interpreta els resultats en funció de les teves dades.*"
   ]
  },
  {
   "cell_type": "markdown",
   "metadata": {},
   "source": [
    "Abans de començar la importació de la nostra base de dades és necessari instal·lar alguns paquets i biblioteques de Python que ens permeten treballar amb dataframes i amb visualitzacions. "
   ]
  },
  {
   "cell_type": "code",
   "execution_count": 1,
   "metadata": {},
   "outputs": [],
   "source": [
    "#!pip install pymysql\n",
    "#!pip install pandas\n",
    "#!pip install matplotlib\n",
    "#!pip install seaborn\n",
    "#!pip install datetime\n",
    "#!pip install plotly-express"
   ]
  },
  {
   "cell_type": "markdown",
   "metadata": {},
   "source": [
    "Un cop finalitzada la instal.lació, importem les biblioteques que farem servir al llarg de l'Sprint. "
   ]
  },
  {
   "cell_type": "code",
   "execution_count": 2,
   "metadata": {},
   "outputs": [],
   "source": [
    "import pymysql\n",
    "import pandas as pd\n",
    "import matplotlib.pyplot as plt\n",
    "import seaborn as sns\n",
    "import plotly.express as px\n",
    "import time\n",
    "import datetime\n",
    "from datetime import datetime"
   ]
  },
  {
   "cell_type": "markdown",
   "metadata": {},
   "source": [
    "Per a realitzar la connexió entre MySQL i Python, hem de referenciar les dades personals del nostre host i user a MySQL mitjançant la funció .connect del connector PyMySQL. Posteriorment, creem un cursor que ens permetrà importar les taules de la base de dades enmagatzemada a MySQL. Gràcies a la funció fetchall del cursor podem extreure les diferents taules de la base de dades fent servir un bucle. A més, per a que Python guardi les taules, creem un diccionari buit amb el nom de dataframes que omplim mitjançant un segon bucle que ens carrega les taules com a dataframe de pandas. Aquesta integració entre pandas i el cursor s'ha pogut executar gràcies als moduls integrats de SQLAlchemy per a Pandas (és una funcionalitat que no conté la llibreria PyMySQL). Per assegurar-nos que les taules han estat carregades amb èxit, hem creat un missatge d'impressió que ens mostra el nom de cadascuna de les taules extretes amb el bucle i incloses al diccionari. Per últim, tanquem el cursor i la conexió amb MySQL. "
   ]
  },
  {
   "cell_type": "code",
   "execution_count": 3,
   "metadata": {},
   "outputs": [
    {
     "name": "stdout",
     "output_type": "stream",
     "text": [
      "Tabla cards_status cargada exitosamente.\n",
      "Tabla companies cargada exitosamente.\n",
      "Tabla credit_card cargada exitosamente.\n",
      "Tabla products cargada exitosamente.\n",
      "Tabla products_numbers cargada exitosamente.\n",
      "Tabla transactions cargada exitosamente.\n",
      "Tabla users cargada exitosamente.\n"
     ]
    },
    {
     "name": "stderr",
     "output_type": "stream",
     "text": [
      "C:\\Users\\Cristina\\AppData\\Local\\Temp\\ipykernel_12588\\554148663.py:17: UserWarning: pandas only supports SQLAlchemy connectable (engine/connection) or database string URI or sqlite3 DBAPI2 connection. Other DBAPI2 objects are not tested. Please consider using SQLAlchemy.\n",
      "  df = pd.read_sql_query(f\"SELECT * FROM {nombre_tabla}\", connection)\n"
     ]
    }
   ],
   "source": [
    "# Conectar a la base de datos\n",
    "connection = pymysql.connect(\n",
    "    host='localhost',\n",
    "    user='root',\n",
    "    password='Gael2023',\n",
    "    database='sales'\n",
    ")\n",
    "\n",
    "cursor = connection.cursor()\n",
    "cursor.execute(\"SHOW TABLES\")\n",
    "tabla = [t[0] for t in cursor.fetchall()]\n",
    "\n",
    "#Modifiquem el nom de dataframes a datasets per a no tenir incompatibilitats de nomenclatura amb PowerBI\n",
    "dataframes = {}\n",
    "\n",
    "for nombre_tabla in tabla:\n",
    "    df = pd.read_sql_query(f\"SELECT * FROM {nombre_tabla}\", connection)\n",
    "    dataframes[nombre_tabla] = df\n",
    "    print(f\"Tabla {nombre_tabla} cargada exitosamente.\")\n",
    "\n",
    "cursor.close()\n",
    "connection.close()"
   ]
  },
  {
   "cell_type": "markdown",
   "metadata": {},
   "source": [
    "Posteriorment, hem d'extreure les taules del diccionari per a poder operar amb elles: \n",
    "- Recuperem les dades de la taula de fets mitjançant el diccionari de dataframes\n",
    "- Extreiem les taules de dimensions que necessitem per a realitzar l'anàlisi\n",
    "- Recuperem la taula pont del diccionari dataframes"
   ]
  },
  {
   "cell_type": "code",
   "execution_count": 4,
   "metadata": {},
   "outputs": [],
   "source": [
    "df_transactions = dataframes['transactions']\n",
    "df_products = dataframes['products']\n",
    "df_users = dataframes['users']\n",
    "df_prod_numbers = dataframes['products_numbers']"
   ]
  },
  {
   "cell_type": "markdown",
   "metadata": {},
   "source": [
    "### Exercici 1: Una variable numèrica.\n"
   ]
  },
  {
   "cell_type": "markdown",
   "metadata": {},
   "source": [
    "Per a començar l'anàlisi fem una breu exploració de la taula de fets. "
   ]
  },
  {
   "cell_type": "code",
   "execution_count": 5,
   "metadata": {},
   "outputs": [
    {
     "name": "stdout",
     "output_type": "stream",
     "text": [
      "<class 'pandas.core.frame.DataFrame'>\n",
      "RangeIndex: 587 entries, 0 to 586\n",
      "Data columns (total 10 columns):\n",
      " #   Column       Non-Null Count  Dtype         \n",
      "---  ------       --------------  -----         \n",
      " 0   id           587 non-null    object        \n",
      " 1   card_id      587 non-null    object        \n",
      " 2   business_id  587 non-null    object        \n",
      " 3   timestamp    587 non-null    datetime64[ns]\n",
      " 4   amount       587 non-null    float64       \n",
      " 5   declined     587 non-null    int64         \n",
      " 6   products_id  587 non-null    object        \n",
      " 7   user_id      587 non-null    int64         \n",
      " 8   lat          587 non-null    float64       \n",
      " 9   longitude    587 non-null    float64       \n",
      "dtypes: datetime64[ns](1), float64(3), int64(2), object(4)\n",
      "memory usage: 46.0+ KB\n"
     ]
    }
   ],
   "source": [
    "df_transactions.info()"
   ]
  },
  {
   "cell_type": "markdown",
   "metadata": {},
   "source": [
    "Per a realitzar aquest exercici com un anàlisi cohessionat que ens ofereixi informació valuosa que encara no hem explorat en els anàlisis previs mitjançant els sprints de SQL i PowerBI, hem escollit realitzar una <b>anàlisi de producte</b> emprant les dades registrades a les taules de transaccions, taula pont de products_numbers i a la taula de dimensions de products. Considerem que aquesta anàlisi ens pot proporcionar un nou angle per a prendre decisions respecte a optimitzar l'activitat de la nostra empresa. \n",
    "\n",
    "Comencem l'anàlisi explorant la taula de dimensions 'products'."
   ]
  },
  {
   "cell_type": "code",
   "execution_count": 6,
   "metadata": {},
   "outputs": [
    {
     "name": "stdout",
     "output_type": "stream",
     "text": [
      "<class 'pandas.core.frame.DataFrame'>\n",
      "RangeIndex: 100 entries, 0 to 99\n",
      "Data columns (total 6 columns):\n",
      " #   Column        Non-Null Count  Dtype  \n",
      "---  ------        --------------  -----  \n",
      " 0   id            100 non-null    object \n",
      " 1   product_name  100 non-null    object \n",
      " 2   price         100 non-null    object \n",
      " 3   colour        100 non-null    object \n",
      " 4   weight        100 non-null    float64\n",
      " 5   warehouse_id  100 non-null    object \n",
      "dtypes: float64(1), object(5)\n",
      "memory usage: 4.8+ KB\n"
     ]
    }
   ],
   "source": [
    "df_products.info()"
   ]
  },
  {
   "cell_type": "markdown",
   "metadata": {},
   "source": [
    "Com volem treballar amb les quantitats assolides a partir dels imports de venda dels productes, necessitem convertir aquesta dada que havíem enmagatzemat a SQL com a string en integrer, per tant, creem una funció que ens permet convertir el preu. "
   ]
  },
  {
   "cell_type": "code",
   "execution_count": 7,
   "metadata": {},
   "outputs": [
    {
     "name": "stdout",
     "output_type": "stream",
     "text": [
      "0     161.11\n",
      "1     119.52\n",
      "2      40.43\n",
      "3      49.70\n",
      "4     181.60\n",
      "       ...  \n",
      "95      6.90\n",
      "96     20.92\n",
      "97     65.25\n",
      "98     38.33\n",
      "99    151.78\n",
      "Name: price, Length: 100, dtype: float64\n"
     ]
    }
   ],
   "source": [
    "def convertir_price(price_str):\n",
    "    price_nosymbol = price_str.replace('$', '').replace(',', '')\n",
    "    return float(price_nosymbol)\n",
    "\n",
    "df_products['price'] = df_products['price'].apply(convertir_price)\n",
    "print(df_products['price'])"
   ]
  },
  {
   "cell_type": "markdown",
   "metadata": {},
   "source": [
    "<b>Variable numèrica</b>: Preu dels diferents productes del catàleg de productes"
   ]
  },
  {
   "cell_type": "code",
   "execution_count": 8,
   "metadata": {},
   "outputs": [
    {
     "data": {
      "text/plain": [
       "price\n",
       "161.11    1\n",
       "2.12      1\n",
       "9.46      1\n",
       "158.29    1\n",
       "114.09    1\n",
       "         ..\n",
       "96.22     1\n",
       "107.17    1\n",
       "128.48    1\n",
       "127.09    1\n",
       "151.78    1\n",
       "Name: count, Length: 100, dtype: int64"
      ]
     },
     "execution_count": 8,
     "metadata": {},
     "output_type": "execute_result"
    }
   ],
   "source": [
    "df_products['price'].value_counts()"
   ]
  },
  {
   "cell_type": "markdown",
   "metadata": {},
   "source": [
    "Configurem la variable per a representar-la per mitjà d'una visualització. "
   ]
  },
  {
   "cell_type": "code",
   "execution_count": 9,
   "metadata": {},
   "outputs": [
    {
     "data": {
      "image/png": "[encoded data removed]",
      "text/plain": [
       "<Figure size 1200x600 with 1 Axes>"
      ]
     },
     "metadata": {},
     "output_type": "display_data"
    }
   ],
   "source": [
    "plt.figure(figsize=(12, 6))\n",
    "sns.histplot(data=df_products, x='price', binwidth=5, edgecolor='white')\n",
    "plt.title('Distribució dels preus dels productes')\n",
    "plt.xlabel('Preu del producte($)')\n",
    "plt.ylabel('Freqüència')\n",
    "plt.tight_layout()\n",
    "plt.show()"
   ]
  },
  {
   "cell_type": "markdown",
   "metadata": {},
   "source": [
    "#### ANÀLISI DEL GRÀFIC\n",
    "\n",
    "Aquest gràfic ens mostra una distribució irregular dels preus. Observem que el rang de preus del nostre catàleg de productes oscila entre els 3 i els 195€. Podem observar com la moda de preus és entre 165-170€, ja que hi ha una freqüència més gran de productes (9 productes). \n",
    "\n",
    "També trobem 5 productes en els rangs de 60-65€, 95€ i 195€. L'elecció d'aquests preus per a aquests productes pot respondre a una estratègia d'establir preu psicològic per a incitar en el consumidor la percepció de que estan pagant un preu més baix (per exemple existeix la percepció de que preus entorn els 90€ són molt més baixo que un cop superat els 100€). Això es deu a la tendència del consumidor de llegir els preus en dígits, per tant, un preu amb menys digits simbolitza psicològicament un preu inferior. \n",
    "\n",
    "Tanmateix la distribució de preus en un rang tan ampli (0-200€) ens indica que el nostre catàleg pretén arribar a consumidors que cerquen productes de baix preu però també aquells que tenen un poder adquisitiu major i poden comprar productes de preu unitari fins 200€. Ens cal, però analitzar quins són els productes dins del catàleg que més es venen i els seus respectius preus.\n"
   ]
  },
  {
   "cell_type": "markdown",
   "metadata": {},
   "source": [
    "### Exercici 2 : Dues variables numèriques."
   ]
  },
  {
   "cell_type": "markdown",
   "metadata": {},
   "source": [
    "Creem una nova taula que presenti tots els registres corresponents a cada producte comprat a cadascuna de les transaccions."
   ]
  },
  {
   "cell_type": "code",
   "execution_count": 10,
   "metadata": {},
   "outputs": [
    {
     "data": {
      "application/vnd.microsoft.datawrangler.viewer.v0+json": {
       "columns": [
        {
         "name": "index",
         "rawType": "int64",
         "type": "integer"
        },
        {
         "name": "id",
         "rawType": "object",
         "type": "string"
        },
        {
         "name": "card_id",
         "rawType": "object",
         "type": "string"
        },
        {
         "name": "business_id",
         "rawType": "object",
         "type": "string"
        },
        {
         "name": "timestamp",
         "rawType": "datetime64[ns]",
         "type": "datetime"
        },
        {
         "name": "amount",
         "rawType": "float64",
         "type": "float"
        },
        {
         "name": "declined",
         "rawType": "int64",
         "type": "integer"
        },
        {
         "name": "products_id_x",
         "rawType": "object",
         "type": "string"
        },
        {
         "name": "user_id",
         "rawType": "int64",
         "type": "integer"
        },
        {
         "name": "lat",
         "rawType": "float64",
         "type": "float"
        },
        {
         "name": "longitude",
         "rawType": "float64",
         "type": "float"
        },
        {
         "name": "products_id_y",
         "rawType": "object",
         "type": "string"
        },
        {
         "name": "transaction_id",
         "rawType": "object",
         "type": "string"
        }
       ],
       "conversionMethod": "pd.DataFrame",
       "ref": "c2ba547f-d63a-4ced-92d2-83c3abbcd03d",
       "rows": [
        [
         "0",
         "02C6201E-D90A-1859-B4EE-88D2986D3B02",
         "CcU-2938",
         "b-2362",
         "2021-08-28 23:42:24",
         "466.92",
         "0",
         "71, 1, 19",
         "92",
         "81.9185",
         "-12.5276",
         "71",
         "02C6201E-D90A-1859-B4EE-88D2986D3B02"
        ],
        [
         "1",
         "02C6201E-D90A-1859-B4EE-88D2986D3B02",
         "CcU-2938",
         "b-2362",
         "2021-08-28 23:42:24",
         "466.92",
         "0",
         "71, 1, 19",
         "92",
         "81.9185",
         "-12.5276",
         "19",
         "02C6201E-D90A-1859-B4EE-88D2986D3B02"
        ],
        [
         "2",
         "02C6201E-D90A-1859-B4EE-88D2986D3B02",
         "CcU-2938",
         "b-2362",
         "2021-08-28 23:42:24",
         "466.92",
         "0",
         "71, 1, 19",
         "92",
         "81.9185",
         "-12.5276",
         "1",
         "02C6201E-D90A-1859-B4EE-88D2986D3B02"
        ],
        [
         "3",
         "0466A42E-47CF-8D24-FD01-C0B689713128",
         "CcU-4219",
         "b-2302",
         "2021-07-26 07:29:18",
         "49.53",
         "0",
         "47, 97, 43",
         "170",
         "-43.9695",
         "-117.525",
         "97",
         "0466A42E-47CF-8D24-FD01-C0B689713128"
        ],
        [
         "4",
         "0466A42E-47CF-8D24-FD01-C0B689713128",
         "CcU-4219",
         "b-2302",
         "2021-07-26 07:29:18",
         "49.53",
         "0",
         "47, 97, 43",
         "170",
         "-43.9695",
         "-117.525",
         "47",
         "0466A42E-47CF-8D24-FD01-C0B689713128"
        ]
       ],
       "shape": {
        "columns": 12,
        "rows": 5
       }
      },
      "text/html": [
       "<div>\n",
       "<style scoped>\n",
       "    .dataframe tbody tr th:only-of-type {\n",
       "        vertical-align: middle;\n",
       "    }\n",
       "\n",
       "    .dataframe tbody tr th {\n",
       "        vertical-align: top;\n",
       "    }\n",
       "\n",
       "    .dataframe thead th {\n",
       "        text-align: right;\n",
       "    }\n",
       "</style>\n",
       "<table border=\"1\" class=\"dataframe\">\n",
       "  <thead>\n",
       "    <tr style=\"text-align: right;\">\n",
       "      <th></th>\n",
       "      <th>id</th>\n",
       "      <th>card_id</th>\n",
       "      <th>business_id</th>\n",
       "      <th>timestamp</th>\n",
       "      <th>amount</th>\n",
       "      <th>declined</th>\n",
       "      <th>products_id_x</th>\n",
       "      <th>user_id</th>\n",
       "      <th>lat</th>\n",
       "      <th>longitude</th>\n",
       "      <th>products_id_y</th>\n",
       "      <th>transaction_id</th>\n",
       "    </tr>\n",
       "  </thead>\n",
       "  <tbody>\n",
       "    <tr>\n",
       "      <th>0</th>\n",
       "      <td>02C6201E-D90A-1859-B4EE-88D2986D3B02</td>\n",
       "      <td>CcU-2938</td>\n",
       "      <td>b-2362</td>\n",
       "      <td>2021-08-28 23:42:24</td>\n",
       "      <td>466.92</td>\n",
       "      <td>0</td>\n",
       "      <td>71, 1, 19</td>\n",
       "      <td>92</td>\n",
       "      <td>81.9185</td>\n",
       "      <td>-12.5276</td>\n",
       "      <td>71</td>\n",
       "      <td>02C6201E-D90A-1859-B4EE-88D2986D3B02</td>\n",
       "    </tr>\n",
       "    <tr>\n",
       "      <th>1</th>\n",
       "      <td>02C6201E-D90A-1859-B4EE-88D2986D3B02</td>\n",
       "      <td>CcU-2938</td>\n",
       "      <td>b-2362</td>\n",
       "      <td>2021-08-28 23:42:24</td>\n",
       "      <td>466.92</td>\n",
       "      <td>0</td>\n",
       "      <td>71, 1, 19</td>\n",
       "      <td>92</td>\n",
       "      <td>81.9185</td>\n",
       "      <td>-12.5276</td>\n",
       "      <td>19</td>\n",
       "      <td>02C6201E-D90A-1859-B4EE-88D2986D3B02</td>\n",
       "    </tr>\n",
       "    <tr>\n",
       "      <th>2</th>\n",
       "      <td>02C6201E-D90A-1859-B4EE-88D2986D3B02</td>\n",
       "      <td>CcU-2938</td>\n",
       "      <td>b-2362</td>\n",
       "      <td>2021-08-28 23:42:24</td>\n",
       "      <td>466.92</td>\n",
       "      <td>0</td>\n",
       "      <td>71, 1, 19</td>\n",
       "      <td>92</td>\n",
       "      <td>81.9185</td>\n",
       "      <td>-12.5276</td>\n",
       "      <td>1</td>\n",
       "      <td>02C6201E-D90A-1859-B4EE-88D2986D3B02</td>\n",
       "    </tr>\n",
       "    <tr>\n",
       "      <th>3</th>\n",
       "      <td>0466A42E-47CF-8D24-FD01-C0B689713128</td>\n",
       "      <td>CcU-4219</td>\n",
       "      <td>b-2302</td>\n",
       "      <td>2021-07-26 07:29:18</td>\n",
       "      <td>49.53</td>\n",
       "      <td>0</td>\n",
       "      <td>47, 97, 43</td>\n",
       "      <td>170</td>\n",
       "      <td>-43.9695</td>\n",
       "      <td>-117.5250</td>\n",
       "      <td>97</td>\n",
       "      <td>0466A42E-47CF-8D24-FD01-C0B689713128</td>\n",
       "    </tr>\n",
       "    <tr>\n",
       "      <th>4</th>\n",
       "      <td>0466A42E-47CF-8D24-FD01-C0B689713128</td>\n",
       "      <td>CcU-4219</td>\n",
       "      <td>b-2302</td>\n",
       "      <td>2021-07-26 07:29:18</td>\n",
       "      <td>49.53</td>\n",
       "      <td>0</td>\n",
       "      <td>47, 97, 43</td>\n",
       "      <td>170</td>\n",
       "      <td>-43.9695</td>\n",
       "      <td>-117.5250</td>\n",
       "      <td>47</td>\n",
       "      <td>0466A42E-47CF-8D24-FD01-C0B689713128</td>\n",
       "    </tr>\n",
       "  </tbody>\n",
       "</table>\n",
       "</div>"
      ],
      "text/plain": [
       "                                     id   card_id business_id  \\\n",
       "0  02C6201E-D90A-1859-B4EE-88D2986D3B02  CcU-2938      b-2362   \n",
       "1  02C6201E-D90A-1859-B4EE-88D2986D3B02  CcU-2938      b-2362   \n",
       "2  02C6201E-D90A-1859-B4EE-88D2986D3B02  CcU-2938      b-2362   \n",
       "3  0466A42E-47CF-8D24-FD01-C0B689713128  CcU-4219      b-2302   \n",
       "4  0466A42E-47CF-8D24-FD01-C0B689713128  CcU-4219      b-2302   \n",
       "\n",
       "            timestamp  amount  declined products_id_x  user_id      lat  \\\n",
       "0 2021-08-28 23:42:24  466.92         0     71, 1, 19       92  81.9185   \n",
       "1 2021-08-28 23:42:24  466.92         0     71, 1, 19       92  81.9185   \n",
       "2 2021-08-28 23:42:24  466.92         0     71, 1, 19       92  81.9185   \n",
       "3 2021-07-26 07:29:18   49.53         0    47, 97, 43      170 -43.9695   \n",
       "4 2021-07-26 07:29:18   49.53         0    47, 97, 43      170 -43.9695   \n",
       "\n",
       "   longitude products_id_y                        transaction_id  \n",
       "0   -12.5276            71  02C6201E-D90A-1859-B4EE-88D2986D3B02  \n",
       "1   -12.5276            19  02C6201E-D90A-1859-B4EE-88D2986D3B02  \n",
       "2   -12.5276             1  02C6201E-D90A-1859-B4EE-88D2986D3B02  \n",
       "3  -117.5250            97  0466A42E-47CF-8D24-FD01-C0B689713128  \n",
       "4  -117.5250            47  0466A42E-47CF-8D24-FD01-C0B689713128  "
      ]
     },
     "execution_count": 10,
     "metadata": {},
     "output_type": "execute_result"
    }
   ],
   "source": [
    "df_prod_trans = pd.merge(df_transactions, df_prod_numbers, left_on='id', right_on='transaction_id', how='left')\n",
    "df_prod_trans.head()"
   ]
  },
  {
   "cell_type": "markdown",
   "metadata": {},
   "source": [
    "Per a treballar sobre els productes venuts, hem elaborat un nou dataframe que agrupi tots els productes que apareixien com a llistat en el registre de les transaccions gràcies a les dades de la taula pont. Aquest nou dataframe filtra les transaccions eliminant aquelles que han estat declinades, per a no tenir en compte els productes retornats. "
   ]
  },
  {
   "cell_type": "code",
   "execution_count": 11,
   "metadata": {},
   "outputs": [
    {
     "name": "stdout",
     "output_type": "stream",
     "text": [
      "<class 'pandas.core.frame.DataFrame'>\n",
      "RangeIndex: 1236 entries, 0 to 1235\n",
      "Data columns (total 18 columns):\n",
      " #   Column          Non-Null Count  Dtype         \n",
      "---  ------          --------------  -----         \n",
      " 0   id_x            1236 non-null   object        \n",
      " 1   card_id         1236 non-null   object        \n",
      " 2   business_id     1236 non-null   object        \n",
      " 3   timestamp       1236 non-null   datetime64[ns]\n",
      " 4   amount          1236 non-null   float64       \n",
      " 5   declined        1236 non-null   int64         \n",
      " 6   products_id_x   1236 non-null   object        \n",
      " 7   user_id         1236 non-null   int64         \n",
      " 8   lat             1236 non-null   float64       \n",
      " 9   longitude       1236 non-null   float64       \n",
      " 10  products_id_y   1236 non-null   object        \n",
      " 11  transaction_id  1236 non-null   object        \n",
      " 12  id_y            1236 non-null   object        \n",
      " 13  product_name    1236 non-null   object        \n",
      " 14  price           1236 non-null   float64       \n",
      " 15  colour          1236 non-null   object        \n",
      " 16  weight          1236 non-null   float64       \n",
      " 17  warehouse_id    1236 non-null   object        \n",
      "dtypes: datetime64[ns](1), float64(5), int64(2), object(10)\n",
      "memory usage: 173.9+ KB\n"
     ]
    }
   ],
   "source": [
    "df_prod_sold = pd.merge(df_prod_trans[df_prod_trans['declined']==0], df_products, left_on='products_id_y', right_on='id', how='inner')\n",
    "df_prod_sold.info()"
   ]
  },
  {
   "cell_type": "markdown",
   "metadata": {},
   "source": [
    "<b>Variable numèrica 1</b>: Quantitat de productes venuts"
   ]
  },
  {
   "cell_type": "code",
   "execution_count": 12,
   "metadata": {},
   "outputs": [
    {
     "name": "stdout",
     "output_type": "stream",
     "text": [
      "   id_y  count\n",
      "0    23     60\n",
      "1    67     59\n",
      "2     2     56\n",
      "3    43     54\n",
      "4    17     54\n",
      "5    97     53\n",
      "6    79     52\n",
      "7    13     51\n",
      "8     1     51\n",
      "9    47     50\n",
      "10   61     50\n",
      "11   41     48\n",
      "12   53     47\n",
      "13   83     46\n",
      "14   89     46\n",
      "15   37     45\n",
      "16    7     44\n",
      "17   19     44\n",
      "18   71     44\n",
      "19    3     43\n",
      "20   29     43\n",
      "21    5     42\n",
      "22   11     40\n",
      "23   31     40\n",
      "24   73     39\n",
      "25   59     35\n"
     ]
    }
   ],
   "source": [
    "count_prod = df_prod_sold['id_y'].value_counts().reset_index()\n",
    "print(count_prod)"
   ]
  },
  {
   "cell_type": "code",
   "execution_count": 13,
   "metadata": {},
   "outputs": [],
   "source": [
    "count_prod.columns = ['id_y', 'count_prod']\n",
    "df_prod_sold = df_prod_sold.merge(count_prod, on='id_y', how='left')"
   ]
  },
  {
   "cell_type": "markdown",
   "metadata": {},
   "source": [
    "<b>Variable numèrica 2</b>: Preu del producte"
   ]
  },
  {
   "cell_type": "code",
   "execution_count": 14,
   "metadata": {},
   "outputs": [
    {
     "data": {
      "text/plain": [
       "price\n",
       "169.96    60\n",
       "195.94    59\n",
       "9.24      56\n",
       "59.80     54\n",
       "91.89     54\n",
       "65.25     53\n",
       "132.86    52\n",
       "139.59    51\n",
       "161.11    51\n",
       "82.15     50\n",
       "28.01     50\n",
       "141.01    48\n",
       "137.81    47\n",
       "26.51     46\n",
       "172.78    46\n",
       "26.66     45\n",
       "63.33     44\n",
       "60.33     44\n",
       "103.73    44\n",
       "171.13    43\n",
       "167.20    43\n",
       "171.22    42\n",
       "49.70     40\n",
       "85.02     40\n",
       "114.09    39\n",
       "114.77    35\n",
       "Name: count, dtype: int64"
      ]
     },
     "execution_count": 14,
     "metadata": {},
     "output_type": "execute_result"
    }
   ],
   "source": [
    "df_prod_sold['price'].value_counts()"
   ]
  },
  {
   "cell_type": "markdown",
   "metadata": {},
   "source": [
    "Grafiquem ambdues variables mitjançant un scatterplot ja que ens mostra la relació entre ambdues variables. "
   ]
  },
  {
   "cell_type": "code",
   "execution_count": 15,
   "metadata": {},
   "outputs": [
    {
     "data": {
      "image/png": "[encoded data removed]",
      "text/plain": [
       "<Figure size 1000x600 with 1 Axes>"
      ]
     },
     "metadata": {},
     "output_type": "display_data"
    }
   ],
   "source": [
    "# Crear el scatterplot\n",
    "plt.figure(figsize=(10, 6))\n",
    "sns.scatterplot(data=df_prod_sold, x='price', y='id_y', size='count_prod', sizes=(100, 1000), hue='count_prod', palette='viridis', legend='full')\n",
    "plt.title('Relació entre preu i quantitat dels productes venuts')\n",
    "plt.legend(title='Quantitat Venuda', bbox_to_anchor=(1.05, 1), loc='upper left')#, borderaxespad=0.)\n",
    "plt.xlabel('Preu dels productes($)')\n",
    "plt.ylabel('ID dels productes')\n",
    "plt.tight_layout()\n",
    "plt.show()"
   ]
  },
  {
   "cell_type": "markdown",
   "metadata": {},
   "source": [
    "El gràfic anterior mostra els preus dels productes relacionats amb la quantitat de vegades que s'ha venut en un format de scatterplot. Per a realitzar aquesta anàlisi hem fet servir únicament els preus dels productes que han estat comprats. Hem triat les variables numériques de preu de producte i de vegades que s'ha venut, tot junt amb els IDs dels productes ja que mitjançant aquesta variable categòrica és més fàcil d'entendre les dades exposades al gràfic. \n",
    "\n",
    "#### ANÀLISI DEL GRÀFIC\n",
    "\n",
    "Per mitjà del gràfic anterior observem com dels 100 productes que apareixien inicialment al nostre catàleg de 'productes' únicament s'estan venent 25. Aquesta informació ens pot ser d'utilitat si volem reduir el tamany del nostre catàleg i enfocar els nostres esforços de màrketing a un grup més reduït de productes per millorar les sinergies de producció i distribució. Cal considerar que el mínim que s'ha venut el producte menys venut del nostre catàleg ha estat 35 vegades. És significatiu que comptem amb 75 productes que mai s'han venut i que el primer producte venut hagi estat adquirit 35 vegades, per tant, caldria determinar si és convenient per a la nostra empresa mantenir els productes no venuts a catàleg. \n",
    "\n",
    "En segon lloc, observem com la variable preu no és determinant per a l'adquisició dels nostres productes. Alguns dels productes més venuts del nostre catàleg compten amb alguns dels preus més elevats (el producte més car s'ha comprat 59 vegades). Aquesta informació ens indica com el preu no és determinant per a l'adquisició dels nostres productes per part dels nostres consumidors. Per tant, podem jugar amb la flexibilitat dels preus per millorar els beneficis de la nostra empresa, ja que no comptem amb consumidors que es centrin en adquirir productes de baix cost sinó que hi ha una oscilació en els preus dels productes més venuts. "
   ]
  },
  {
   "cell_type": "markdown",
   "metadata": {},
   "source": [
    "### Exercici 3: Una variable categòrica."
   ]
  },
  {
   "cell_type": "markdown",
   "metadata": {},
   "source": [
    "Una variable categòrica que ens sembla necessària en fer l'anàlisi és els noms dels productes venuts. Aquesta dada ens facilita informació sobre quins productes s'estàn venent dins del nostre catàleg de productes. Tanmateix, en representar gràficament aquesta informació, hem optat per fer servir un countplot que ens ofereix un recompte de la nostra variable categòrica (una representació visual de la funció value_counts). \n",
    "\n",
    "<b>Variable categòrica:</b> Nom de productes venuts"
   ]
  },
  {
   "cell_type": "code",
   "execution_count": 16,
   "metadata": {},
   "outputs": [
    {
     "data": {
      "text/plain": [
       "product_name\n",
       "skywalker ewok                   88\n",
       "Direwolf Stannis                 86\n",
       "riverlands north                 60\n",
       "Winterfell                       59\n",
       "Tarly Stark                      56\n",
       "skywalker ewok sith              54\n",
       "duel                             54\n",
       "jinn Winterfell                  53\n",
       "Direwolf riverlands the          52\n",
       "palpatine chewbacca              51\n",
       "Winterfell Lannister             50\n",
       "Tully                            50\n",
       "Lannister Barratheon Direwolf    48\n",
       "kingsblood Littlefinger the      47\n",
       "duel tourney                     46\n",
       "Direwolf Littlefinger            45\n",
       "dooku solo                       44\n",
       "north of Casterly                44\n",
       "Tully Dorne                      44\n",
       "duel tourney Lannister           43\n",
       "Tully maester Tarly              43\n",
       "Karstark Dorne                   40\n",
       "Lannister                        40\n",
       "Dorne bastard                    39\n",
       "Name: count, dtype: int64"
      ]
     },
     "execution_count": 16,
     "metadata": {},
     "output_type": "execute_result"
    }
   ],
   "source": [
    "df_prod_sold['product_name'].value_counts()"
   ]
  },
  {
   "cell_type": "markdown",
   "metadata": {},
   "source": [
    "Per mitjà del countplot, visualitzem la nostra variable categòrica. "
   ]
  },
  {
   "cell_type": "code",
   "execution_count": 17,
   "metadata": {},
   "outputs": [
    {
     "data": {
      "image/png": "[encoded data removed]",
      "text/plain": [
       "<Figure size 1200x600 with 1 Axes>"
      ]
     },
     "metadata": {},
     "output_type": "display_data"
    }
   ],
   "source": [
    "plt.figure(figsize=(12, 6))\n",
    "sns.countplot(data=df_prod_sold, x='product_name')\n",
    "plt.title('Quantitat de productes venuts per nom de producte')\n",
    "plt.xlabel('Nom de producte')\n",
    "plt.ylabel('Quantitat de productes venuts')\n",
    "plt.xticks(rotation=75, ha='right', fontsize=9)\n",
    "plt.tight_layout()  \n",
    "plt.show()"
   ]
  },
  {
   "cell_type": "markdown",
   "metadata": {},
   "source": [
    "#### ANÀLISI DEL GRÀFIC\n",
    "\n",
    "Amb les dades d'aquest gràfic podem obtenir una primera impressió de quins productes s'estan venent més i de quins no estan apareixent en el recompte, per tant, no s'han venut. Observem que hi han 2 productes que destaquen sobre la resta (Direwolf Stannis i Skywalker Ewok), els nostres best-sellers. \n",
    "La informació recollida en aquest gràfic és d'utilitat per a campanyes de promoció de productes, per a recomenació de productes entre els clients que han comprat productes de la mateixa col·lecció-tipus i també per a descatalogar els productes que no han estat comprats i ens suposa un esforç econòmic la seva producció (en cas que hi existissin)."
   ]
  },
  {
   "cell_type": "markdown",
   "metadata": {},
   "source": [
    "### Exercici 4: Una variable categòrica i una numèrica."
   ]
  },
  {
   "cell_type": "markdown",
   "metadata": {},
   "source": [
    "Creem la columna nova 'real_amount' a partir de la suma dels preus dels productes comprats en cada transacció. Amb aquesta nova variable podem conèixer el preu real que han pagat els consumidors en funció del valor del producte. Aquest amount és diferent del valor de les transaccions per tant, podríem considerar que les transaccions tenen altres conceptes dels quals no tenim dades, per exemple, descomptes, despeses de gestió, enviaments, etc. "
   ]
  },
  {
   "cell_type": "code",
   "execution_count": 18,
   "metadata": {},
   "outputs": [],
   "source": [
    "df_prod_sold['real_amount'] = df_prod_sold.groupby('id_x')['price'].transform('sum')"
   ]
  },
  {
   "cell_type": "markdown",
   "metadata": {},
   "source": [
    "Preparem un nou dataframe amb la informació dels usuaris que han comprat productes a la nostra empresa."
   ]
  },
  {
   "cell_type": "code",
   "execution_count": 19,
   "metadata": {},
   "outputs": [],
   "source": [
    "df_buyers_info = pd.merge(df_prod_sold, df_users, left_on='user_id', right_on='id')"
   ]
  },
  {
   "cell_type": "markdown",
   "metadata": {},
   "source": [
    "Creació d'un dataframe amb el preu real de la transacció per país on s'ubiquen els usuaris."
   ]
  },
  {
   "cell_type": "code",
   "execution_count": 20,
   "metadata": {},
   "outputs": [
    {
     "data": {
      "application/vnd.microsoft.datawrangler.viewer.v0+json": {
       "columns": [
        {
         "name": "index",
         "rawType": "int64",
         "type": "integer"
        },
        {
         "name": "country",
         "rawType": "object",
         "type": "string"
        },
        {
         "name": "real_amount",
         "rawType": "float64",
         "type": "float"
        }
       ],
       "conversionMethod": "pd.DataFrame",
       "ref": "0ff81cd5-3274-49d0-b4e4-e7294ae7aebc",
       "rows": [
        [
         "0",
         "Canada",
         "203364.23"
        ],
        [
         "1",
         "United Kingdom",
         "48120.96"
        ],
        [
         "2",
         "United States",
         "123595.45"
        ]
       ],
       "shape": {
        "columns": 2,
        "rows": 3
       }
      },
      "text/html": [
       "<div>\n",
       "<style scoped>\n",
       "    .dataframe tbody tr th:only-of-type {\n",
       "        vertical-align: middle;\n",
       "    }\n",
       "\n",
       "    .dataframe tbody tr th {\n",
       "        vertical-align: top;\n",
       "    }\n",
       "\n",
       "    .dataframe thead th {\n",
       "        text-align: right;\n",
       "    }\n",
       "</style>\n",
       "<table border=\"1\" class=\"dataframe\">\n",
       "  <thead>\n",
       "    <tr style=\"text-align: right;\">\n",
       "      <th></th>\n",
       "      <th>country</th>\n",
       "      <th>real_amount</th>\n",
       "    </tr>\n",
       "  </thead>\n",
       "  <tbody>\n",
       "    <tr>\n",
       "      <th>0</th>\n",
       "      <td>Canada</td>\n",
       "      <td>203364.23</td>\n",
       "    </tr>\n",
       "    <tr>\n",
       "      <th>1</th>\n",
       "      <td>United Kingdom</td>\n",
       "      <td>48120.96</td>\n",
       "    </tr>\n",
       "    <tr>\n",
       "      <th>2</th>\n",
       "      <td>United States</td>\n",
       "      <td>123595.45</td>\n",
       "    </tr>\n",
       "  </tbody>\n",
       "</table>\n",
       "</div>"
      ],
      "text/plain": [
       "          country  real_amount\n",
       "0          Canada    203364.23\n",
       "1  United Kingdom     48120.96\n",
       "2   United States    123595.45"
      ]
     },
     "execution_count": 20,
     "metadata": {},
     "output_type": "execute_result"
    }
   ],
   "source": [
    "df_buyers = df_buyers_info.groupby('country')['real_amount'].sum().reset_index()\n",
    "df_buyers"
   ]
  },
  {
   "cell_type": "code",
   "execution_count": 21,
   "metadata": {},
   "outputs": [
    {
     "data": {
      "image/png": "[encoded data removed]",
      "text/plain": [
       "<Figure size 640x480 with 1 Axes>"
      ]
     },
     "metadata": {},
     "output_type": "display_data"
    }
   ],
   "source": [
    "sns.barplot(data=df_buyers, x='country', y='real_amount')\n",
    "plt.title('Volum de ventes per país dels compradors')\n",
    "plt.xlabel('País')\n",
    "plt.ylabel('Ventes obtingudes en $')\n",
    "plt.xticks(rotation=45)\n",
    "plt.tight_layout()\n",
    "plt.show()"
   ]
  },
  {
   "cell_type": "markdown",
   "metadata": {},
   "source": [
    "Aquest gràfic mostra la relació entre el total de vendes que s'han assolit en calcular les compres de cada producte segons el preu del producte, agrupades per país. Per a obtenir aquestes dades hem hagut de calcular el valor real de cada transacció en funció dels productes comprats en la mateixa i relacionar-lo amb el país on s'ubica l'usuari que ha realitzat cada transacció. Aquests valor real discrepa del valor 'amount' relatiu a la informació específica registrada per a cada transacció. Això ens denota que s'està aplicant qualsevol descompte, pagament per enviament de la comanda, IVA o qualsevol altre valor econòmic a la transacció que no es veu reflexat a la nostra base de dades. \n",
    "\n",
    "#### ANÀLISI DEL GRÀFIC\n",
    "\n",
    "Observem que els nostres compradors es localitzen en 3 països principals: Canadà, Regne Unit i Estats Units. Tanmateix respecte al valor total de les vendes fetes, destaca notablement Canadà superant el 200.000$ en compres segons els preus registrats dels productes. Aquest país supera en gairebé 80.000$ el nostre segon mercat (Estats Units) i en més de 150.000$ al tercer mercat on s'ubiquen els nostres usuaris (Regne Unit). Per tant, cal dissenyar estratègies tant de fidelització com de captació al mercat canadenc on la nostra empresa està obtenint un major benefici. \n",
    "\n",
    "En el moment de l'anàlisi (2021-2022), Canadà és el segon país dels 3 mercats en poder adquisitiu, no obstant, les vendes obtingudes pels nostres productes mostren com la nostra empresa s'està consolidant en aquest mercat millor que en els altres 2. Una altra decisió que caldria considerar és impulsar campanyes publicitàries per al nostre públic objectiu a EEUU, principal mercat respecte a poder adquisitiu, per augmentar el nostre volum de vendes. \n",
    "\n",
    "Per últim, ja que aquestes vendes mostren únicament els beneficis obtinguts del preu de venda de cadascun dels productes, hauríem de ampliar la informació respecte als beneficis reals que ens suposa la venda dels nostres productes (enviament, logística, centres de distribució) per valorar si cal reforçar la captació de clients i promoció de productes al mercat britànic o no ens genera un marge de beneficis suficient per a aconseguir un elevat retorn de la inversió. "
   ]
  },
  {
   "cell_type": "markdown",
   "metadata": {},
   "source": [
    "### Exercici 5: Dues variables categòriques."
   ]
  },
  {
   "cell_type": "markdown",
   "metadata": {},
   "source": [
    "Per a elaborar aquest anàlisi, hem creat un nou dataframe amb els productes que han estat retornats. "
   ]
  },
  {
   "cell_type": "code",
   "execution_count": 22,
   "metadata": {},
   "outputs": [
    {
     "data": {
      "application/vnd.microsoft.datawrangler.viewer.v0+json": {
       "columns": [
        {
         "name": "index",
         "rawType": "int64",
         "type": "integer"
        },
        {
         "name": "id_x",
         "rawType": "object",
         "type": "string"
        },
        {
         "name": "card_id",
         "rawType": "object",
         "type": "string"
        },
        {
         "name": "business_id",
         "rawType": "object",
         "type": "string"
        },
        {
         "name": "timestamp",
         "rawType": "datetime64[ns]",
         "type": "datetime"
        },
        {
         "name": "amount",
         "rawType": "float64",
         "type": "float"
        },
        {
         "name": "declined",
         "rawType": "int64",
         "type": "integer"
        },
        {
         "name": "products_id_x",
         "rawType": "object",
         "type": "string"
        },
        {
         "name": "user_id",
         "rawType": "int64",
         "type": "integer"
        },
        {
         "name": "lat",
         "rawType": "float64",
         "type": "float"
        },
        {
         "name": "longitude",
         "rawType": "float64",
         "type": "float"
        },
        {
         "name": "products_id_y",
         "rawType": "object",
         "type": "string"
        },
        {
         "name": "transaction_id",
         "rawType": "object",
         "type": "string"
        },
        {
         "name": "id_y",
         "rawType": "object",
         "type": "string"
        },
        {
         "name": "product_name",
         "rawType": "object",
         "type": "string"
        },
        {
         "name": "price",
         "rawType": "float64",
         "type": "float"
        },
        {
         "name": "colour",
         "rawType": "object",
         "type": "string"
        },
        {
         "name": "weight",
         "rawType": "float64",
         "type": "float"
        },
        {
         "name": "warehouse_id",
         "rawType": "object",
         "type": "string"
        }
       ],
       "conversionMethod": "pd.DataFrame",
       "ref": "98741080-f817-4c7b-8fdb-f37cf2219ab0",
       "rows": [
        [
         "0",
         "07A46D48-31A3-7E87-65B9-0DA902AD109F",
         "CcU-3225",
         "b-2386",
         "2021-06-28 21:11:42",
         "340.87",
         "1",
         "47, 23",
         "272",
         "38.8342",
         "92.1905",
         "47",
         "07A46D48-31A3-7E87-65B9-0DA902AD109F",
         "47",
         "Tully",
         "82.15",
         "#919191",
         "2.7",
         "WH--42"
        ],
        [
         "1",
         "07A46D48-31A3-7E87-65B9-0DA902AD109F",
         "CcU-3225",
         "b-2386",
         "2021-06-28 21:11:42",
         "340.87",
         "1",
         "47, 23",
         "272",
         "38.8342",
         "92.1905",
         "23",
         "07A46D48-31A3-7E87-65B9-0DA902AD109F",
         "23",
         "riverlands north",
         "169.96",
         "#545454",
         "2.7",
         "WH--18"
        ],
        [
         "2",
         "09DE92CE-6F27-2BB7-13B5-9385B2B3B8E2",
         "CcU-3071",
         "b-2298",
         "2021-05-11 20:40:06",
         "303.05",
         "1",
         "67, 7",
         "275",
         "71.1706",
         "10.5757",
         "7",
         "09DE92CE-6F27-2BB7-13B5-9385B2B3B8E2",
         "7",
         "north of Casterly",
         "63.33",
         "#b7b7b7",
         "0.6",
         "WH--2"
        ],
        [
         "3",
         "09DE92CE-6F27-2BB7-13B5-9385B2B3B8E2",
         "CcU-3071",
         "b-2298",
         "2021-05-11 20:40:06",
         "303.05",
         "1",
         "67, 7",
         "275",
         "71.1706",
         "10.5757",
         "67",
         "09DE92CE-6F27-2BB7-13B5-9385B2B3B8E2",
         "67",
         "Winterfell",
         "195.94",
         "#1c1c1c",
         "0.6",
         "WH--62"
        ],
        [
         "4",
         "0BEB80B7-9D66-1707-CE4B-9DC7E71914B5",
         "CcU-3141",
         "b-2338",
         "2022-03-04 14:54:35",
         "288.81",
         "1",
         "19, 41, 29, 3",
         "272",
         "23.3264",
         "-13.6037",
         "41",
         "0BEB80B7-9D66-1707-CE4B-9DC7E71914B5",
         "41",
         "Lannister Barratheon Direwolf",
         "141.01",
         "#fcfcfc",
         "3.2",
         "WH--36"
        ]
       ],
       "shape": {
        "columns": 18,
        "rows": 5
       }
      },
      "text/html": [
       "<div>\n",
       "<style scoped>\n",
       "    .dataframe tbody tr th:only-of-type {\n",
       "        vertical-align: middle;\n",
       "    }\n",
       "\n",
       "    .dataframe tbody tr th {\n",
       "        vertical-align: top;\n",
       "    }\n",
       "\n",
       "    .dataframe thead th {\n",
       "        text-align: right;\n",
       "    }\n",
       "</style>\n",
       "<table border=\"1\" class=\"dataframe\">\n",
       "  <thead>\n",
       "    <tr style=\"text-align: right;\">\n",
       "      <th></th>\n",
       "      <th>id_x</th>\n",
       "      <th>card_id</th>\n",
       "      <th>business_id</th>\n",
       "      <th>timestamp</th>\n",
       "      <th>amount</th>\n",
       "      <th>declined</th>\n",
       "      <th>products_id_x</th>\n",
       "      <th>user_id</th>\n",
       "      <th>lat</th>\n",
       "      <th>longitude</th>\n",
       "      <th>products_id_y</th>\n",
       "      <th>transaction_id</th>\n",
       "      <th>id_y</th>\n",
       "      <th>product_name</th>\n",
       "      <th>price</th>\n",
       "      <th>colour</th>\n",
       "      <th>weight</th>\n",
       "      <th>warehouse_id</th>\n",
       "    </tr>\n",
       "  </thead>\n",
       "  <tbody>\n",
       "    <tr>\n",
       "      <th>0</th>\n",
       "      <td>07A46D48-31A3-7E87-65B9-0DA902AD109F</td>\n",
       "      <td>CcU-3225</td>\n",
       "      <td>b-2386</td>\n",
       "      <td>2021-06-28 21:11:42</td>\n",
       "      <td>340.87</td>\n",
       "      <td>1</td>\n",
       "      <td>47, 23</td>\n",
       "      <td>272</td>\n",
       "      <td>38.8342</td>\n",
       "      <td>92.1905</td>\n",
       "      <td>47</td>\n",
       "      <td>07A46D48-31A3-7E87-65B9-0DA902AD109F</td>\n",
       "      <td>47</td>\n",
       "      <td>Tully</td>\n",
       "      <td>82.15</td>\n",
       "      <td>#919191</td>\n",
       "      <td>2.7</td>\n",
       "      <td>WH--42</td>\n",
       "    </tr>\n",
       "    <tr>\n",
       "      <th>1</th>\n",
       "      <td>07A46D48-31A3-7E87-65B9-0DA902AD109F</td>\n",
       "      <td>CcU-3225</td>\n",
       "      <td>b-2386</td>\n",
       "      <td>2021-06-28 21:11:42</td>\n",
       "      <td>340.87</td>\n",
       "      <td>1</td>\n",
       "      <td>47, 23</td>\n",
       "      <td>272</td>\n",
       "      <td>38.8342</td>\n",
       "      <td>92.1905</td>\n",
       "      <td>23</td>\n",
       "      <td>07A46D48-31A3-7E87-65B9-0DA902AD109F</td>\n",
       "      <td>23</td>\n",
       "      <td>riverlands north</td>\n",
       "      <td>169.96</td>\n",
       "      <td>#545454</td>\n",
       "      <td>2.7</td>\n",
       "      <td>WH--18</td>\n",
       "    </tr>\n",
       "    <tr>\n",
       "      <th>2</th>\n",
       "      <td>09DE92CE-6F27-2BB7-13B5-9385B2B3B8E2</td>\n",
       "      <td>CcU-3071</td>\n",
       "      <td>b-2298</td>\n",
       "      <td>2021-05-11 20:40:06</td>\n",
       "      <td>303.05</td>\n",
       "      <td>1</td>\n",
       "      <td>67, 7</td>\n",
       "      <td>275</td>\n",
       "      <td>71.1706</td>\n",
       "      <td>10.5757</td>\n",
       "      <td>7</td>\n",
       "      <td>09DE92CE-6F27-2BB7-13B5-9385B2B3B8E2</td>\n",
       "      <td>7</td>\n",
       "      <td>north of Casterly</td>\n",
       "      <td>63.33</td>\n",
       "      <td>#b7b7b7</td>\n",
       "      <td>0.6</td>\n",
       "      <td>WH--2</td>\n",
       "    </tr>\n",
       "    <tr>\n",
       "      <th>3</th>\n",
       "      <td>09DE92CE-6F27-2BB7-13B5-9385B2B3B8E2</td>\n",
       "      <td>CcU-3071</td>\n",
       "      <td>b-2298</td>\n",
       "      <td>2021-05-11 20:40:06</td>\n",
       "      <td>303.05</td>\n",
       "      <td>1</td>\n",
       "      <td>67, 7</td>\n",
       "      <td>275</td>\n",
       "      <td>71.1706</td>\n",
       "      <td>10.5757</td>\n",
       "      <td>67</td>\n",
       "      <td>09DE92CE-6F27-2BB7-13B5-9385B2B3B8E2</td>\n",
       "      <td>67</td>\n",
       "      <td>Winterfell</td>\n",
       "      <td>195.94</td>\n",
       "      <td>#1c1c1c</td>\n",
       "      <td>0.6</td>\n",
       "      <td>WH--62</td>\n",
       "    </tr>\n",
       "    <tr>\n",
       "      <th>4</th>\n",
       "      <td>0BEB80B7-9D66-1707-CE4B-9DC7E71914B5</td>\n",
       "      <td>CcU-3141</td>\n",
       "      <td>b-2338</td>\n",
       "      <td>2022-03-04 14:54:35</td>\n",
       "      <td>288.81</td>\n",
       "      <td>1</td>\n",
       "      <td>19, 41, 29, 3</td>\n",
       "      <td>272</td>\n",
       "      <td>23.3264</td>\n",
       "      <td>-13.6037</td>\n",
       "      <td>41</td>\n",
       "      <td>0BEB80B7-9D66-1707-CE4B-9DC7E71914B5</td>\n",
       "      <td>41</td>\n",
       "      <td>Lannister Barratheon Direwolf</td>\n",
       "      <td>141.01</td>\n",
       "      <td>#fcfcfc</td>\n",
       "      <td>3.2</td>\n",
       "      <td>WH--36</td>\n",
       "    </tr>\n",
       "  </tbody>\n",
       "</table>\n",
       "</div>"
      ],
      "text/plain": [
       "                                   id_x   card_id business_id  \\\n",
       "0  07A46D48-31A3-7E87-65B9-0DA902AD109F  CcU-3225      b-2386   \n",
       "1  07A46D48-31A3-7E87-65B9-0DA902AD109F  CcU-3225      b-2386   \n",
       "2  09DE92CE-6F27-2BB7-13B5-9385B2B3B8E2  CcU-3071      b-2298   \n",
       "3  09DE92CE-6F27-2BB7-13B5-9385B2B3B8E2  CcU-3071      b-2298   \n",
       "4  0BEB80B7-9D66-1707-CE4B-9DC7E71914B5  CcU-3141      b-2338   \n",
       "\n",
       "            timestamp  amount  declined  products_id_x  user_id      lat  \\\n",
       "0 2021-06-28 21:11:42  340.87         1         47, 23      272  38.8342   \n",
       "1 2021-06-28 21:11:42  340.87         1         47, 23      272  38.8342   \n",
       "2 2021-05-11 20:40:06  303.05         1          67, 7      275  71.1706   \n",
       "3 2021-05-11 20:40:06  303.05         1          67, 7      275  71.1706   \n",
       "4 2022-03-04 14:54:35  288.81         1  19, 41, 29, 3      272  23.3264   \n",
       "\n",
       "   longitude products_id_y                        transaction_id id_y  \\\n",
       "0    92.1905            47  07A46D48-31A3-7E87-65B9-0DA902AD109F   47   \n",
       "1    92.1905            23  07A46D48-31A3-7E87-65B9-0DA902AD109F   23   \n",
       "2    10.5757             7  09DE92CE-6F27-2BB7-13B5-9385B2B3B8E2    7   \n",
       "3    10.5757            67  09DE92CE-6F27-2BB7-13B5-9385B2B3B8E2   67   \n",
       "4   -13.6037            41  0BEB80B7-9D66-1707-CE4B-9DC7E71914B5   41   \n",
       "\n",
       "                    product_name   price   colour  weight warehouse_id  \n",
       "0                          Tully   82.15  #919191     2.7       WH--42  \n",
       "1               riverlands north  169.96  #545454     2.7       WH--18  \n",
       "2              north of Casterly   63.33  #b7b7b7     0.6        WH--2  \n",
       "3                     Winterfell  195.94  #1c1c1c     0.6       WH--62  \n",
       "4  Lannister Barratheon Direwolf  141.01  #fcfcfc     3.2       WH--36  "
      ]
     },
     "execution_count": 22,
     "metadata": {},
     "output_type": "execute_result"
    }
   ],
   "source": [
    "df_prod_returned = pd.merge(df_prod_trans[df_prod_trans['declined']==1], df_products, left_on='products_id_y', right_on='id', how='inner')\n",
    "df_prod_returned.head()"
   ]
  },
  {
   "cell_type": "markdown",
   "metadata": {},
   "source": [
    "<b>Variable categòrica 1:</b> Nom de productes més retornats"
   ]
  },
  {
   "cell_type": "code",
   "execution_count": 23,
   "metadata": {},
   "outputs": [],
   "source": [
    "prod_returned = df_prod_returned.groupby(['product_name']).size().reset_index(name='returned')"
   ]
  },
  {
   "cell_type": "markdown",
   "metadata": {},
   "source": [
    "<b>Variable categòrica 2:</b> Nom de productes més venuts"
   ]
  },
  {
   "cell_type": "code",
   "execution_count": 24,
   "metadata": {},
   "outputs": [],
   "source": [
    "prod_sold = df_prod_sold['product_name'].value_counts().reset_index(name='sold')\n",
    "prod_sold.columns = ['product_name', 'sold']"
   ]
  },
  {
   "cell_type": "markdown",
   "metadata": {},
   "source": [
    "Creem un dataframe conjunt que ens permeti mostrar al gràfic la comparativa entre ambdues variables."
   ]
  },
  {
   "cell_type": "code",
   "execution_count": 25,
   "metadata": {},
   "outputs": [
    {
     "data": {
      "application/vnd.microsoft.datawrangler.viewer.v0+json": {
       "columns": [
        {
         "name": "index",
         "rawType": "int64",
         "type": "integer"
        },
        {
         "name": "product_name",
         "rawType": "object",
         "type": "string"
        },
        {
         "name": "returned",
         "rawType": "int64",
         "type": "integer"
        },
        {
         "name": "sold",
         "rawType": "int64",
         "type": "integer"
        }
       ],
       "conversionMethod": "pd.DataFrame",
       "ref": "1caf332e-1a0d-4d35-8419-9a4911d4385f",
       "rows": [
        [
         "0",
         "Direwolf Littlefinger",
         "6",
         "45"
        ],
        [
         "1",
         "Direwolf Stannis",
         "20",
         "86"
        ],
        [
         "2",
         "Direwolf riverlands the",
         "14",
         "52"
        ],
        [
         "3",
         "Dorne bastard",
         "8",
         "39"
        ],
        [
         "4",
         "Karstark Dorne",
         "8",
         "40"
        ],
        [
         "5",
         "Lannister",
         "7",
         "40"
        ],
        [
         "6",
         "Lannister Barratheon Direwolf",
         "5",
         "48"
        ],
        [
         "7",
         "Tarly Stark",
         "9",
         "56"
        ],
        [
         "8",
         "Tully",
         "12",
         "50"
        ],
        [
         "9",
         "Tully Dorne",
         "10",
         "44"
        ],
        [
         "10",
         "Tully maester Tarly",
         "6",
         "43"
        ],
        [
         "11",
         "Winterfell",
         "9",
         "59"
        ],
        [
         "12",
         "Winterfell Lannister",
         "7",
         "50"
        ],
        [
         "13",
         "dooku solo",
         "5",
         "44"
        ],
        [
         "14",
         "duel",
         "11",
         "54"
        ],
        [
         "15",
         "duel tourney",
         "11",
         "46"
        ],
        [
         "16",
         "duel tourney Lannister",
         "8",
         "43"
        ],
        [
         "17",
         "jinn Winterfell",
         "8",
         "53"
        ],
        [
         "18",
         "kingsblood Littlefinger the",
         "11",
         "47"
        ],
        [
         "19",
         "north of Casterly",
         "10",
         "44"
        ],
        [
         "20",
         "palpatine chewbacca",
         "9",
         "51"
        ],
        [
         "21",
         "riverlands north",
         "8",
         "60"
        ],
        [
         "22",
         "skywalker ewok",
         "12",
         "88"
        ],
        [
         "23",
         "skywalker ewok sith",
         "7",
         "54"
        ]
       ],
       "shape": {
        "columns": 3,
        "rows": 24
       }
      },
      "text/html": [
       "<div>\n",
       "<style scoped>\n",
       "    .dataframe tbody tr th:only-of-type {\n",
       "        vertical-align: middle;\n",
       "    }\n",
       "\n",
       "    .dataframe tbody tr th {\n",
       "        vertical-align: top;\n",
       "    }\n",
       "\n",
       "    .dataframe thead th {\n",
       "        text-align: right;\n",
       "    }\n",
       "</style>\n",
       "<table border=\"1\" class=\"dataframe\">\n",
       "  <thead>\n",
       "    <tr style=\"text-align: right;\">\n",
       "      <th></th>\n",
       "      <th>product_name</th>\n",
       "      <th>returned</th>\n",
       "      <th>sold</th>\n",
       "    </tr>\n",
       "  </thead>\n",
       "  <tbody>\n",
       "    <tr>\n",
       "      <th>0</th>\n",
       "      <td>Direwolf Littlefinger</td>\n",
       "      <td>6</td>\n",
       "      <td>45</td>\n",
       "    </tr>\n",
       "    <tr>\n",
       "      <th>1</th>\n",
       "      <td>Direwolf Stannis</td>\n",
       "      <td>20</td>\n",
       "      <td>86</td>\n",
       "    </tr>\n",
       "    <tr>\n",
       "      <th>2</th>\n",
       "      <td>Direwolf riverlands the</td>\n",
       "      <td>14</td>\n",
       "      <td>52</td>\n",
       "    </tr>\n",
       "    <tr>\n",
       "      <th>3</th>\n",
       "      <td>Dorne bastard</td>\n",
       "      <td>8</td>\n",
       "      <td>39</td>\n",
       "    </tr>\n",
       "    <tr>\n",
       "      <th>4</th>\n",
       "      <td>Karstark Dorne</td>\n",
       "      <td>8</td>\n",
       "      <td>40</td>\n",
       "    </tr>\n",
       "    <tr>\n",
       "      <th>5</th>\n",
       "      <td>Lannister</td>\n",
       "      <td>7</td>\n",
       "      <td>40</td>\n",
       "    </tr>\n",
       "    <tr>\n",
       "      <th>6</th>\n",
       "      <td>Lannister Barratheon Direwolf</td>\n",
       "      <td>5</td>\n",
       "      <td>48</td>\n",
       "    </tr>\n",
       "    <tr>\n",
       "      <th>7</th>\n",
       "      <td>Tarly Stark</td>\n",
       "      <td>9</td>\n",
       "      <td>56</td>\n",
       "    </tr>\n",
       "    <tr>\n",
       "      <th>8</th>\n",
       "      <td>Tully</td>\n",
       "      <td>12</td>\n",
       "      <td>50</td>\n",
       "    </tr>\n",
       "    <tr>\n",
       "      <th>9</th>\n",
       "      <td>Tully Dorne</td>\n",
       "      <td>10</td>\n",
       "      <td>44</td>\n",
       "    </tr>\n",
       "    <tr>\n",
       "      <th>10</th>\n",
       "      <td>Tully maester Tarly</td>\n",
       "      <td>6</td>\n",
       "      <td>43</td>\n",
       "    </tr>\n",
       "    <tr>\n",
       "      <th>11</th>\n",
       "      <td>Winterfell</td>\n",
       "      <td>9</td>\n",
       "      <td>59</td>\n",
       "    </tr>\n",
       "    <tr>\n",
       "      <th>12</th>\n",
       "      <td>Winterfell Lannister</td>\n",
       "      <td>7</td>\n",
       "      <td>50</td>\n",
       "    </tr>\n",
       "    <tr>\n",
       "      <th>13</th>\n",
       "      <td>dooku solo</td>\n",
       "      <td>5</td>\n",
       "      <td>44</td>\n",
       "    </tr>\n",
       "    <tr>\n",
       "      <th>14</th>\n",
       "      <td>duel</td>\n",
       "      <td>11</td>\n",
       "      <td>54</td>\n",
       "    </tr>\n",
       "    <tr>\n",
       "      <th>15</th>\n",
       "      <td>duel tourney</td>\n",
       "      <td>11</td>\n",
       "      <td>46</td>\n",
       "    </tr>\n",
       "    <tr>\n",
       "      <th>16</th>\n",
       "      <td>duel tourney Lannister</td>\n",
       "      <td>8</td>\n",
       "      <td>43</td>\n",
       "    </tr>\n",
       "    <tr>\n",
       "      <th>17</th>\n",
       "      <td>jinn Winterfell</td>\n",
       "      <td>8</td>\n",
       "      <td>53</td>\n",
       "    </tr>\n",
       "    <tr>\n",
       "      <th>18</th>\n",
       "      <td>kingsblood Littlefinger the</td>\n",
       "      <td>11</td>\n",
       "      <td>47</td>\n",
       "    </tr>\n",
       "    <tr>\n",
       "      <th>19</th>\n",
       "      <td>north of Casterly</td>\n",
       "      <td>10</td>\n",
       "      <td>44</td>\n",
       "    </tr>\n",
       "    <tr>\n",
       "      <th>20</th>\n",
       "      <td>palpatine chewbacca</td>\n",
       "      <td>9</td>\n",
       "      <td>51</td>\n",
       "    </tr>\n",
       "    <tr>\n",
       "      <th>21</th>\n",
       "      <td>riverlands north</td>\n",
       "      <td>8</td>\n",
       "      <td>60</td>\n",
       "    </tr>\n",
       "    <tr>\n",
       "      <th>22</th>\n",
       "      <td>skywalker ewok</td>\n",
       "      <td>12</td>\n",
       "      <td>88</td>\n",
       "    </tr>\n",
       "    <tr>\n",
       "      <th>23</th>\n",
       "      <td>skywalker ewok sith</td>\n",
       "      <td>7</td>\n",
       "      <td>54</td>\n",
       "    </tr>\n",
       "  </tbody>\n",
       "</table>\n",
       "</div>"
      ],
      "text/plain": [
       "                     product_name  returned  sold\n",
       "0           Direwolf Littlefinger         6    45\n",
       "1                Direwolf Stannis        20    86\n",
       "2         Direwolf riverlands the        14    52\n",
       "3                   Dorne bastard         8    39\n",
       "4                  Karstark Dorne         8    40\n",
       "5                       Lannister         7    40\n",
       "6   Lannister Barratheon Direwolf         5    48\n",
       "7                     Tarly Stark         9    56\n",
       "8                           Tully        12    50\n",
       "9                     Tully Dorne        10    44\n",
       "10            Tully maester Tarly         6    43\n",
       "11                     Winterfell         9    59\n",
       "12           Winterfell Lannister         7    50\n",
       "13                     dooku solo         5    44\n",
       "14                           duel        11    54\n",
       "15                   duel tourney        11    46\n",
       "16         duel tourney Lannister         8    43\n",
       "17                jinn Winterfell         8    53\n",
       "18    kingsblood Littlefinger the        11    47\n",
       "19              north of Casterly        10    44\n",
       "20            palpatine chewbacca         9    51\n",
       "21               riverlands north         8    60\n",
       "22                 skywalker ewok        12    88\n",
       "23            skywalker ewok sith         7    54"
      ]
     },
     "execution_count": 25,
     "metadata": {},
     "output_type": "execute_result"
    }
   ],
   "source": [
    "df_combined = pd.merge(prod_returned, prod_sold, on='product_name', how='outer').fillna(0)\n",
    "df_combined"
   ]
  },
  {
   "cell_type": "code",
   "execution_count": 26,
   "metadata": {},
   "outputs": [
    {
     "data": {
      "image/png": "[encoded data removed]",
      "text/plain": [
       "<Figure size 1400x700 with 1 Axes>"
      ]
     },
     "metadata": {},
     "output_type": "display_data"
    }
   ],
   "source": [
    "fig, ax = plt.subplots(figsize=(14, 7))\n",
    "x = range(len(df_combined['product_name']))\n",
    "ax.bar(x, df_combined['returned'], label='Retornats', color='skyblue')\n",
    "ax.bar(x, df_combined['sold'], label='Venuts', bottom=df_combined['returned'])\n",
    "ax.set_title('Comparativa de productes venuts i retornats')\n",
    "ax.set_xlabel('Nom del Producte')\n",
    "ax.set_ylabel('Número de unitats')\n",
    "ax.set_xticks(x)\n",
    "ax.set_xticklabels(df_combined['product_name'], rotation=60, fontsize=9, ha='right')\n",
    "plt.legend()\n",
    "plt.tight_layout()\n",
    "plt.show()"
   ]
  },
  {
   "cell_type": "markdown",
   "metadata": {},
   "source": [
    "Aquest gràfic ens mostra els productes més venuts d'una forma molt evident -semblant a la visualització de l'exercici 3 on es recollia la quantitat de productes venuts-, però al afegir les dades relatives als productes retornats, podem establir relacions entre els productes més venuts i més retornats. Hem seleccionat les variables categòriques de nom de producte i de devolució, amb un recompte del nombre de vegades que s'han adquirit o retornat.\n",
    "\n",
    "#### ANÀLISI DEL GRÀFIC\n",
    "En analitzar aquest gràfic observem els dos productes més destacats en quantitat de vendes, que superen les 80 unitats, i les seves devolucions. El Direwolf Stannis arriva a gairebé 20 devolucions, mentres que els Skywalker Ewok s'ha retornat 10 vegades, sense destacar entre altres productes que es compren menys i també es retornen sovint com el Duel, Duel Tourney o el Direwolf Riverlands. \n",
    "Aquesta dada ens permet fer un control de qualitat dels productes que més es retornen. Podríem contactar amb els clients que han fet devolucions d'un determinat producte per a verificar el grau de satisfacció amb el producte, el perquè de la devolució, etc. A més, podem veure la relació entre productes que s'han venut poc i retornat molt per a determinar la viabilitat d'aquest producte o si hi ha alguna informació errònia que estem oferint per la qual els clients adquireixen aquest producte 'per error'. "
   ]
  },
  {
   "cell_type": "markdown",
   "metadata": {},
   "source": [
    "### Exercici 6: Tres variables."
   ]
  },
  {
   "cell_type": "markdown",
   "metadata": {},
   "source": [
    "Per a realitzar l'anàlisi a partir de 3 variables hem decidit establir un nou marc entre els productes venuts, la categoria de Best-Seller. Per a determinar els productes que considerem best-seller, hem tingut en compte els 5 productes més venuts. A més, ens sembla molt interessant determinar quins usuaris han comprat els 5 productes best-sellers en més d'una ocasió com a compradors recorrents dels productes destacats del nostre catàleg. "
   ]
  },
  {
   "cell_type": "code",
   "execution_count": 27,
   "metadata": {},
   "outputs": [
    {
     "name": "stdout",
     "output_type": "stream",
     "text": [
      "         product_name  user_id  num_compres\n",
      "2    Direwolf Stannis       92            6\n",
      "3    Direwolf Stannis       96            4\n",
      "30   Direwolf Stannis      210            4\n",
      "53   Direwolf Stannis      267            7\n",
      "56   Direwolf Stannis      272            4\n",
      "61        Tarly Stark       92            2\n",
      "63        Tarly Stark       96            4\n",
      "85        Tarly Stark      210            2\n",
      "98        Tarly Stark      267            4\n",
      "100       Tarly Stark      272            4\n",
      "106        Winterfell       92            7\n",
      "108        Winterfell       96            2\n",
      "128        Winterfell      210            3\n",
      "138        Winterfell      267            6\n",
      "139        Winterfell      272            3\n",
      "146  riverlands north       92            4\n",
      "147  riverlands north       96            3\n",
      "170  riverlands north      210            3\n",
      "180  riverlands north      267            3\n",
      "181  riverlands north      272            8\n",
      "188    skywalker ewok       92            7\n",
      "190    skywalker ewok       96            8\n",
      "211    skywalker ewok      210            3\n",
      "232    skywalker ewok      267            6\n",
      "234    skywalker ewok      272            9\n"
     ]
    }
   ],
   "source": [
    "# Variable categòrica 1. Best-sellers products (5 productes més venuts)\n",
    "bestsellers = df_prod_sold['product_name'].value_counts().nlargest(5).index\n",
    "\n",
    "#Variable categòrica 2. Usuaris que han comprat tots els best-sellers més de 1 vegada. \n",
    "bestsellers_df = df_prod_sold[df_prod_sold['product_name'].isin(bestsellers)]\n",
    "user_product_counts = bestsellers_df.groupby(['product_name', 'user_id']).size().reset_index(name='num_compres')\n",
    "recurrent_buyers = user_product_counts[user_product_counts['num_compres'] > 1]\n",
    "\n",
    "user_best_seller_count = recurrent_buyers.groupby('user_id')['product_name'].nunique()\n",
    "required_count = len(bestsellers)\n",
    "final_users = user_best_seller_count[user_best_seller_count == required_count]\n",
    "topbuyers = recurrent_buyers[recurrent_buyers['user_id'].isin(final_users.index)]\n",
    "print(topbuyers)"
   ]
  },
  {
   "cell_type": "code",
   "execution_count": 28,
   "metadata": {},
   "outputs": [
    {
     "data": {
      "image/png": "[encoded data removed]",
      "text/plain": [
       "<Figure size 1400x700 with 1 Axes>"
      ]
     },
     "metadata": {},
     "output_type": "display_data"
    }
   ],
   "source": [
    "plt.figure(figsize=(14, 7))\n",
    "sns.barplot(data=topbuyers, y='product_name', x='num_compres', hue='user_id', dodge=True, palette='colorblind')\n",
    "plt.title('Compres de bestsellers per usuari que han comprat més de 1 vegada')\n",
    "plt.ylabel('Nom del Producte')\n",
    "plt.xlabel('Número de compres per usuari')\n",
    "plt.legend(title='ID de Usuario', bbox_to_anchor=(1.05, 1), loc='upper left', fontsize='small')\n",
    "plt.tight_layout()\n",
    "plt.show()"
   ]
  },
  {
   "cell_type": "markdown",
   "metadata": {},
   "source": [
    "En elaborar aquest gràfic, hem considerat que el recompte seria una nova variable (num_compres), ja que determinem que el comptador de vegades que s'ha comprat un dels bestsellers ha de ser superior a 1. A més, hem presentat dues variables categòriques com el nom dels productes bestsellers i l' id dels usuaris que han comprat més d'un cop els 5 productes bestsellers (en aquest cas, són 5 usuaris). \n",
    "\n",
    "#### ANÀLISI DEL GRÀFIC\n",
    "En analitzar el gràfic podem observar com hi han 5 usuaris (ID 92, 96, 210, 267, 272) que han adquirit tots els productes best-sellers en més d'una ocassió. Si observem desde la perspectva dels productes, cal destacar com dos usuaris (96, 272) han comprat el Skywalker Ewok en 8 i més ocasions, essent el producte que té una major compra reiterada d'entre els bestsellers. Però si el que pretenem és analitzar els usuaris, destaquen l'usuari ID 92 que ha adquirit en 7 ocassions el Tarly Stark i el Skywalker Ewok i l'usuari 272 que n'ha adquirit 9 vegades el Skywalker Ewok i en 8 el Riverlands north.\n",
    "\n",
    "Aquesta informació pot ser valuosa de cara a fer un control de qualitat sobre els bestsellers i per a determinar a què és deguda la compra reiterada d'aquests productes. Per tant, des del departament de postvenda seria interessant contactar amb aquest usuaris per a conèixer el seu grau de satisfacció amb la venda i els productes. A més, aquest usuaris que han adquirit els nostres productes en repetides ocassions compten amb opinions sobre els processos de compra, els productes, la logística de l'empresa que es podria convertir en informació important per a millorar el nostre fluxe empresarial.\n",
    "\n",
    "A més, com a compradors recorrents, podríem oferir descomptes a aquests clients per a mantenir la seva fidelització i convertir-los en promotors indirectes -si comparteixen reviews, opinions, etc- tant en la nostra web com en xarxes socials, ja que són clients que estan 'a priori' satisfets amb la nostra empresa. Iniciatives d'interacció amb els clients recurrents poden ajudar-nos a enfortir la nostra imatge de marca i crear sinergies en considerar-los com a promotors indirectes dels productes de la nostra empresa. \n",
    "\n"
   ]
  },
  {
   "cell_type": "markdown",
   "metadata": {},
   "source": [
    "### Exercici 7: Graficar un Pairplot."
   ]
  },
  {
   "cell_type": "markdown",
   "metadata": {},
   "source": [
    "Per a la creació del gràfic de Pairplot hem triat analitzar dues variable dins el dataframe de productes Bestsellers. Per a obtenir una nova relació entre les variables product_name i price, en aquest cas, hem cercat la relació amb una de les variables de productes que no havíem explorat: weight. Volem comprovar si hi ha cap relació entre preu i pes dels productes més venuts. "
   ]
  },
  {
   "cell_type": "code",
   "execution_count": 29,
   "metadata": {},
   "outputs": [
    {
     "data": {
      "application/vnd.microsoft.datawrangler.viewer.v0+json": {
       "columns": [
        {
         "name": "index",
         "rawType": "int64",
         "type": "integer"
        },
        {
         "name": "id_x",
         "rawType": "object",
         "type": "string"
        },
        {
         "name": "card_id",
         "rawType": "object",
         "type": "string"
        },
        {
         "name": "business_id",
         "rawType": "object",
         "type": "string"
        },
        {
         "name": "timestamp",
         "rawType": "datetime64[ns]",
         "type": "datetime"
        },
        {
         "name": "amount",
         "rawType": "float64",
         "type": "float"
        },
        {
         "name": "declined",
         "rawType": "int64",
         "type": "integer"
        },
        {
         "name": "products_id_x",
         "rawType": "object",
         "type": "string"
        },
        {
         "name": "user_id",
         "rawType": "int64",
         "type": "integer"
        },
        {
         "name": "lat",
         "rawType": "float64",
         "type": "float"
        },
        {
         "name": "longitude",
         "rawType": "float64",
         "type": "float"
        },
        {
         "name": "products_id_y",
         "rawType": "object",
         "type": "string"
        },
        {
         "name": "transaction_id",
         "rawType": "object",
         "type": "string"
        },
        {
         "name": "id_y",
         "rawType": "object",
         "type": "string"
        },
        {
         "name": "product_name",
         "rawType": "object",
         "type": "string"
        },
        {
         "name": "price",
         "rawType": "float64",
         "type": "float"
        },
        {
         "name": "colour",
         "rawType": "object",
         "type": "string"
        },
        {
         "name": "weight",
         "rawType": "float64",
         "type": "float"
        },
        {
         "name": "warehouse_id",
         "rawType": "object",
         "type": "string"
        },
        {
         "name": "count_prod",
         "rawType": "int64",
         "type": "integer"
        },
        {
         "name": "real_amount",
         "rawType": "float64",
         "type": "float"
        }
       ],
       "conversionMethod": "pd.DataFrame",
       "ref": "05d9924f-e537-470f-889d-992bf6b9d26e",
       "rows": [
        [
         "2",
         "02C6201E-D90A-1859-B4EE-88D2986D3B02",
         "CcU-2938",
         "b-2362",
         "2021-08-28 23:42:24",
         "466.92",
         "0",
         "71, 1, 19",
         "92",
         "81.9185",
         "-12.5276",
         "1",
         "02C6201E-D90A-1859-B4EE-88D2986D3B02",
         "1",
         "Direwolf Stannis",
         "161.11",
         "#7c7c7c",
         "1.0",
         "WH-4",
         "51",
         "325.17"
        ],
        [
         "6",
         "063FBA79-99EC-66FB-29F7-25726D1764A5",
         "CcU-2987",
         "b-2250",
         "2022-01-06 21:25:27",
         "92.61",
         "0",
         "47, 67, 31, 5",
         "275",
         "-81.2227",
         "-129.05",
         "67",
         "063FBA79-99EC-66FB-29F7-25726D1764A5",
         "67",
         "Winterfell",
         "195.94",
         "#1c1c1c",
         "0.6",
         "WH--62",
         "59",
         "534.33"
        ],
        [
         "7",
         "063FBA79-99EC-66FB-29F7-25726D1764A5",
         "CcU-2987",
         "b-2250",
         "2022-01-06 21:25:27",
         "92.61",
         "0",
         "47, 67, 31, 5",
         "275",
         "-81.2227",
         "-129.05",
         "5",
         "063FBA79-99EC-66FB-29F7-25726D1764A5",
         "5",
         "skywalker ewok",
         "171.22",
         "#dbdbdb",
         "3.2",
         "WH-0",
         "42",
         "534.33"
        ],
        [
         "10",
         "0668296C-CDB9-A883-76BC-2E4C44F8C8AE",
         "CcU-3743",
         "b-2618",
         "2022-01-26 02:07:14",
         "394.18",
         "0",
         "89, 83, 79",
         "265",
         "-34.3593",
         "-100.556",
         "89",
         "0668296C-CDB9-A883-76BC-2E4C44F8C8AE",
         "89",
         "skywalker ewok",
         "172.78",
         "#636363",
         "3.2",
         "WH--84",
         "46",
         "332.15"
        ],
        [
         "21",
         "1026DA24-8929-31F1-8250-D7BAB05C13D2",
         "CcU-2959",
         "b-2346",
         "2021-12-07 09:30:38",
         "465.31",
         "0",
         "89, 11, 97, 79",
         "92",
         "32.0646",
         "-140.147",
         "89",
         "1026DA24-8929-31F1-8250-D7BAB05C13D2",
         "89",
         "skywalker ewok",
         "172.78",
         "#636363",
         "3.2",
         "WH--84",
         "46",
         "420.59000000000003"
        ],
        [
         "24",
         "108B1D1D-5B23-A76C-55EF-C568E49A05DD",
         "CcU-2938",
         "b-2222",
         "2021-07-07 17:43:16",
         "293.57",
         "0",
         "59",
         "275",
         "83.7839",
         "-178.86",
         "59",
         "108B1D1D-5B23-A76C-55EF-C568E49A05DD",
         "59",
         "Direwolf Stannis",
         "114.77",
         "#bcbcbc",
         "2.7",
         "WH--54",
         "35",
         "114.77"
        ],
        [
         "26",
         "122DC333-E19F-D629-DCD8-9C54CF1EBB9A",
         "CcU-4366",
         "b-2302",
         "2021-06-09 06:04:14",
         "172.01",
         "0",
         "1, 67, 19",
         "221",
         "29.6372",
         "-166.173",
         "67",
         "122DC333-E19F-D629-DCD8-9C54CF1EBB9A",
         "67",
         "Winterfell",
         "195.94",
         "#1c1c1c",
         "0.6",
         "WH--62",
         "59",
         "417.38"
        ],
        [
         "28",
         "122DC333-E19F-D629-DCD8-9C54CF1EBB9A",
         "CcU-4366",
         "b-2302",
         "2021-06-09 06:04:14",
         "172.01",
         "0",
         "1, 67, 19",
         "221",
         "29.6372",
         "-166.173",
         "1",
         "122DC333-E19F-D629-DCD8-9C54CF1EBB9A",
         "1",
         "Direwolf Stannis",
         "161.11",
         "#7c7c7c",
         "1.0",
         "WH-4",
         "51",
         "417.38"
        ],
        [
         "31",
         "1479B3D2-B7BA-C7BB-4CE3-8D7C2DE85ABB",
         "CcU-2994",
         "b-2326",
         "2021-08-09 00:58:07",
         "309.45",
         "0",
         "89, 41, 59",
         "133",
         "66.2672",
         "172.399",
         "89",
         "1479B3D2-B7BA-C7BB-4CE3-8D7C2DE85ABB",
         "89",
         "skywalker ewok",
         "172.78",
         "#636363",
         "3.2",
         "WH--84",
         "46",
         "428.56"
        ],
        [
         "32",
         "1479B3D2-B7BA-C7BB-4CE3-8D7C2DE85ABB",
         "CcU-2994",
         "b-2326",
         "2021-08-09 00:58:07",
         "309.45",
         "0",
         "89, 41, 59",
         "133",
         "66.2672",
         "172.399",
         "59",
         "1479B3D2-B7BA-C7BB-4CE3-8D7C2DE85ABB",
         "59",
         "Direwolf Stannis",
         "114.77",
         "#bcbcbc",
         "2.7",
         "WH--54",
         "35",
         "428.56"
        ],
        [
         "36",
         "14CAE5B5-8FB1-3E4A-4C85-0EA4167534F4",
         "CcU-4849",
         "b-2302",
         "2021-12-31 00:29:42",
         "388.04",
         "0",
         "2, 13, 53, 31",
         "189",
         "-53.6202",
         "93.0533",
         "2",
         "14CAE5B5-8FB1-3E4A-4C85-0EA4167534F4",
         "2",
         "Tarly Stark",
         "9.24",
         "#919191",
         "2.0",
         "WH-3",
         "56",
         "371.65999999999997"
        ],
        [
         "39",
         "152598C2-029D-D684-4B66-91EDF393EBFF",
         "CcU-2994",
         "b-2326",
         "2021-07-05 03:10:00",
         "395.43",
         "0",
         "23, 97",
         "126",
         "-67.0189",
         "-141.672",
         "23",
         "152598C2-029D-D684-4B66-91EDF393EBFF",
         "23",
         "riverlands north",
         "169.96",
         "#545454",
         "2.7",
         "WH--18",
         "60",
         "235.21"
        ],
        [
         "40",
         "156F3F80-7E7D-65CF-727D-6AE03CEB7520",
         "CcU-2959",
         "b-2346",
         "2021-04-29 07:06:10",
         "404.16",
         "0",
         "5",
         "92",
         "-59.9778",
         "172.731",
         "5",
         "156F3F80-7E7D-65CF-727D-6AE03CEB7520",
         "5",
         "skywalker ewok",
         "171.22",
         "#dbdbdb",
         "3.2",
         "WH-0",
         "42",
         "171.22"
        ],
        [
         "44",
         "158A3ACB-541C-DBCC-65BD-6373CC67BF1C",
         "CcU-4849",
         "b-2302",
         "2022-03-08 05:02:19",
         "240.29",
         "0",
         "13, 41, 89, 71",
         "183",
         "42.5424",
         "-170.347",
         "89",
         "158A3ACB-541C-DBCC-65BD-6373CC67BF1C",
         "89",
         "skywalker ewok",
         "172.78",
         "#636363",
         "3.2",
         "WH--84",
         "46",
         "557.11"
        ],
        [
         "49",
         "15CC4862-D13E-ED4B-941C-486484AFDFAD",
         "CcU-3239",
         "b-2394",
         "2021-04-22 13:56:42",
         "447.11",
         "0",
         "97, 89",
         "272",
         "-14.0843",
         "7.79937",
         "89",
         "15CC4862-D13E-ED4B-941C-486484AFDFAD",
         "89",
         "skywalker ewok",
         "172.78",
         "#636363",
         "3.2",
         "WH--84",
         "46",
         "238.03"
        ],
        [
         "50",
         "162C7E78-2B6B-7971-A1E4-D2124E732451",
         "CcU-4527",
         "b-2302",
         "2021-04-11 05:59:18",
         "231.26",
         "0",
         "89",
         "210",
         "-69.1381",
         "58.0017",
         "89",
         "162C7E78-2B6B-7971-A1E4-D2124E732451",
         "89",
         "skywalker ewok",
         "172.78",
         "#636363",
         "3.2",
         "WH--84",
         "46",
         "172.78"
        ],
        [
         "53",
         "167DE938-B1C2-428D-FA3D-96A45CD41B22",
         "CcU-3883",
         "b-2494",
         "2021-03-29 11:04:24",
         "414.36",
         "0",
         "7, 37, 2",
         "255",
         "67.3865",
         "-63.1993",
         "2",
         "167DE938-B1C2-428D-FA3D-96A45CD41B22",
         "2",
         "Tarly Stark",
         "9.24",
         "#919191",
         "2.0",
         "WH-3",
         "56",
         "99.23"
        ],
        [
         "54",
         "1717FD6B-ADAD-7082-A748-9112BE892CCC",
         "CcU-4219",
         "b-2302",
         "2021-12-29 16:18:54",
         "249.91",
         "0",
         "2, 5",
         "172",
         "69.4892",
         "-138.411",
         "5",
         "1717FD6B-ADAD-7082-A748-9112BE892CCC",
         "5",
         "skywalker ewok",
         "171.22",
         "#dbdbdb",
         "3.2",
         "WH-0",
         "42",
         "180.46"
        ],
        [
         "55",
         "1717FD6B-ADAD-7082-A748-9112BE892CCC",
         "CcU-4219",
         "b-2302",
         "2021-12-29 16:18:54",
         "249.91",
         "0",
         "2, 5",
         "172",
         "69.4892",
         "-138.411",
         "2",
         "1717FD6B-ADAD-7082-A748-9112BE892CCC",
         "2",
         "Tarly Stark",
         "9.24",
         "#919191",
         "2.0",
         "WH-3",
         "56",
         "180.46"
        ],
        [
         "57",
         "1742D72D-6EC3-1B42-A1B2-24AA75A6A14B",
         "CcU-4191",
         "b-2346",
         "2021-04-09 15:37:17",
         "297.59",
         "0",
         "17, 11, 83, 67",
         "96",
         "-18.9716",
         "-101.593",
         "67",
         "1742D72D-6EC3-1B42-A1B2-24AA75A6A14B",
         "67",
         "Winterfell",
         "195.94",
         "#1c1c1c",
         "0.6",
         "WH--62",
         "59",
         "364.03999999999996"
        ],
        [
         "60",
         "1753A288-9FC1-52E6-5C39-A1FFB97B0D3A",
         "CcU-4345",
         "b-2302",
         "2021-08-17 05:32:08",
         "497.84",
         "0",
         "1, 13, 89, 31",
         "222",
         "57.9422",
         "-114.729",
         "89",
         "1753A288-9FC1-52E6-5C39-A1FFB97B0D3A",
         "89",
         "skywalker ewok",
         "172.78",
         "#636363",
         "3.2",
         "WH--84",
         "46",
         "558.5"
        ],
        [
         "63",
         "1753A288-9FC1-52E6-5C39-A1FFB97B0D3A",
         "CcU-4345",
         "b-2302",
         "2021-08-17 05:32:08",
         "497.84",
         "0",
         "1, 13, 89, 31",
         "222",
         "57.9422",
         "-114.729",
         "1",
         "1753A288-9FC1-52E6-5C39-A1FFB97B0D3A",
         "1",
         "Direwolf Stannis",
         "161.11",
         "#7c7c7c",
         "1.0",
         "WH-4",
         "51",
         "558.5"
        ],
        [
         "65",
         "17561134-37A4-E316-2C3C-C5541EDAD761",
         "CcU-2938",
         "b-2362",
         "2021-09-15 05:23:32",
         "371.57",
         "0",
         "53, 2",
         "92",
         "-10.8529",
         "18.0969",
         "2",
         "17561134-37A4-E316-2C3C-C5541EDAD761",
         "2",
         "Tarly Stark",
         "9.24",
         "#919191",
         "2.0",
         "WH-3",
         "56",
         "147.05"
        ],
        [
         "68",
         "1788C881-EE67-9BAB-377A-4C78E772160B",
         "CcU-3036",
         "b-2278",
         "2022-01-16 08:19:44",
         "486.83",
         "0",
         "7, 2, 79",
         "275",
         "55.9135",
         "110.555",
         "2",
         "1788C881-EE67-9BAB-377A-4C78E772160B",
         "2",
         "Tarly Stark",
         "9.24",
         "#919191",
         "2.0",
         "WH-3",
         "56",
         "205.43"
        ],
        [
         "72",
         "1822A630-4B6E-DABC-2576-6EC107FA15C2",
         "CcU-4849",
         "b-2278",
         "2021-09-16 23:56:49",
         "140.31",
         "0",
         "23, 67, 97",
         "194",
         "-32.3809",
         "-0.822218",
         "67",
         "1822A630-4B6E-DABC-2576-6EC107FA15C2",
         "67",
         "Winterfell",
         "195.94",
         "#1c1c1c",
         "0.6",
         "WH--62",
         "59",
         "431.15"
        ],
        [
         "73",
         "1822A630-4B6E-DABC-2576-6EC107FA15C2",
         "CcU-4849",
         "b-2278",
         "2021-09-16 23:56:49",
         "140.31",
         "0",
         "23, 67, 97",
         "194",
         "-32.3809",
         "-0.822218",
         "23",
         "1822A630-4B6E-DABC-2576-6EC107FA15C2",
         "23",
         "riverlands north",
         "169.96",
         "#545454",
         "2.7",
         "WH--18",
         "60",
         "431.15"
        ],
        [
         "82",
         "18B2472B-DA8B-36F7-B0F2-7DDA688B73D1",
         "CcU-2938",
         "b-2362",
         "2021-09-24 08:33:44",
         "391.38",
         "0",
         "59, 23",
         "87",
         "-41.7722",
         "98.2897",
         "59",
         "18B2472B-DA8B-36F7-B0F2-7DDA688B73D1",
         "59",
         "Direwolf Stannis",
         "114.77",
         "#bcbcbc",
         "2.7",
         "WH--54",
         "35",
         "284.73"
        ],
        [
         "83",
         "18B2472B-DA8B-36F7-B0F2-7DDA688B73D1",
         "CcU-2938",
         "b-2362",
         "2021-09-24 08:33:44",
         "391.38",
         "0",
         "59, 23",
         "87",
         "-41.7722",
         "98.2897",
         "23",
         "18B2472B-DA8B-36F7-B0F2-7DDA688B73D1",
         "23",
         "riverlands north",
         "169.96",
         "#545454",
         "2.7",
         "WH--18",
         "60",
         "284.73"
        ],
        [
         "91",
         "18CCBA7C-ABC1-813D-FAF3-4BAB97429368",
         "CcU-4219",
         "b-2302",
         "2021-06-21 03:21:34",
         "58.16",
         "0",
         "83, 97, 23, 71",
         "173",
         "51.3881",
         "-156.371",
         "23",
         "18CCBA7C-ABC1-813D-FAF3-4BAB97429368",
         "23",
         "riverlands north",
         "169.96",
         "#545454",
         "2.7",
         "WH--18",
         "60",
         "365.45000000000005"
        ],
        [
         "92",
         "18D648AB-7D54-A3E8-2DBA-2D8D2991CA43",
         "CcU-3771",
         "b-2618",
         "2021-11-02 03:08:14",
         "305.02",
         "0",
         "89",
         "263",
         "-67.118",
         "-174.141",
         "89",
         "18D648AB-7D54-A3E8-2DBA-2D8D2991CA43",
         "89",
         "skywalker ewok",
         "172.78",
         "#636363",
         "3.2",
         "WH--84",
         "46",
         "172.78"
        ],
        [
         "93",
         "1998A483-B4CD-FAE6-745C-8F2F2EB77A8E",
         "CcU-2959",
         "b-2362",
         "2021-08-29 10:53:03",
         "372.58",
         "0",
         "31, 67, 47",
         "92",
         "-6.77047",
         "128.679",
         "67",
         "1998A483-B4CD-FAE6-745C-8F2F2EB77A8E",
         "67",
         "Winterfell",
         "195.94",
         "#1c1c1c",
         "0.6",
         "WH--62",
         "59",
         "363.11"
        ],
        [
         "97",
         "19E1EC3E-2119-1EFD-8AAE-5930D4A4E63F",
         "CcU-4219",
         "b-2302",
         "2021-07-06 21:40:15",
         "29.63",
         "0",
         "83, 11, 5",
         "154",
         "-56.0839",
         "116.987",
         "5",
         "19E1EC3E-2119-1EFD-8AAE-5930D4A4E63F",
         "5",
         "skywalker ewok",
         "171.22",
         "#dbdbdb",
         "3.2",
         "WH-0",
         "42",
         "247.43"
        ],
        [
         "100",
         "1A6CECFB-2E3A-65A3-72D9-2FDB58A1E4BA",
         "CcU-4674",
         "b-2278",
         "2021-07-03 08:35:06",
         "200.04",
         "0",
         "7, 23, 2, 1",
         "209",
         "-55.9323",
         "60.4475",
         "23",
         "1A6CECFB-2E3A-65A3-72D9-2FDB58A1E4BA",
         "23",
         "riverlands north",
         "169.96",
         "#545454",
         "2.7",
         "WH--18",
         "60",
         "403.64"
        ],
        [
         "101",
         "1A6CECFB-2E3A-65A3-72D9-2FDB58A1E4BA",
         "CcU-4674",
         "b-2278",
         "2021-07-03 08:35:06",
         "200.04",
         "0",
         "7, 23, 2, 1",
         "209",
         "-55.9323",
         "60.4475",
         "2",
         "1A6CECFB-2E3A-65A3-72D9-2FDB58A1E4BA",
         "2",
         "Tarly Stark",
         "9.24",
         "#919191",
         "2.0",
         "WH-3",
         "56",
         "403.64"
        ],
        [
         "102",
         "1A6CECFB-2E3A-65A3-72D9-2FDB58A1E4BA",
         "CcU-4674",
         "b-2278",
         "2021-07-03 08:35:06",
         "200.04",
         "0",
         "7, 23, 2, 1",
         "209",
         "-55.9323",
         "60.4475",
         "1",
         "1A6CECFB-2E3A-65A3-72D9-2FDB58A1E4BA",
         "1",
         "Direwolf Stannis",
         "161.11",
         "#7c7c7c",
         "1.0",
         "WH-4",
         "51",
         "403.64"
        ],
        [
         "103",
         "1A9B5411-64D8-DEC4-AC74-43E235AAEFC1",
         "CcU-3687",
         "b-2618",
         "2021-08-22 23:51:51",
         "306.96",
         "0",
         "3, 67",
         "267",
         "44.3314",
         "149.168",
         "67",
         "1A9B5411-64D8-DEC4-AC74-43E235AAEFC1",
         "67",
         "Winterfell",
         "195.94",
         "#1c1c1c",
         "0.6",
         "WH--62",
         "59",
         "367.07"
        ],
        [
         "106",
         "1B117D49-936C-BA6C-E94B-30C3293AA239",
         "CcU-4219",
         "b-2302",
         "2021-05-09 23:56:04",
         "371.35",
         "0",
         "59, 83",
         "163",
         "-75.099",
         "109.034",
         "59",
         "1B117D49-936C-BA6C-E94B-30C3293AA239",
         "59",
         "Direwolf Stannis",
         "114.77",
         "#bcbcbc",
         "2.7",
         "WH--54",
         "35",
         "141.28"
        ],
        [
         "110",
         "1BC3AC28-04FB-7015-D93A-422C9A68528D",
         "CcU-4632",
         "b-2278",
         "2021-03-21 16:22:42",
         "208.47",
         "0",
         "61, 23",
         "210",
         "-39.921",
         "-149.125",
         "23",
         "1BC3AC28-04FB-7015-D93A-422C9A68528D",
         "23",
         "riverlands north",
         "169.96",
         "#545454",
         "2.7",
         "WH--18",
         "60",
         "197.97"
        ],
        [
         "111",
         "1C3B3CC4-B919-7616-6A57-EEBDD7B7B68B",
         "CcU-4415",
         "b-2302",
         "2021-09-27 16:07:34",
         "462.35",
         "0",
         "61, 67, 29",
         "217",
         "81.1737",
         "62.8835",
         "67",
         "1C3B3CC4-B919-7616-6A57-EEBDD7B7B68B",
         "67",
         "Winterfell",
         "195.94",
         "#1c1c1c",
         "0.6",
         "WH--62",
         "59",
         "391.15"
        ],
        [
         "115",
         "1C9EE7A2-EA73-9E54-DAC7-D08632543C68",
         "CcU-4191",
         "b-2346",
         "2021-12-22 17:19:04",
         "395.48",
         "0",
         "2, 5, 73",
         "96",
         "-63.0446",
         "-175.348",
         "5",
         "1C9EE7A2-EA73-9E54-DAC7-D08632543C68",
         "5",
         "skywalker ewok",
         "171.22",
         "#dbdbdb",
         "3.2",
         "WH-0",
         "42",
         "294.55"
        ],
        [
         "116",
         "1C9EE7A2-EA73-9E54-DAC7-D08632543C68",
         "CcU-4191",
         "b-2346",
         "2021-12-22 17:19:04",
         "395.48",
         "0",
         "2, 5, 73",
         "96",
         "-63.0446",
         "-175.348",
         "2",
         "1C9EE7A2-EA73-9E54-DAC7-D08632543C68",
         "2",
         "Tarly Stark",
         "9.24",
         "#919191",
         "2.0",
         "WH-3",
         "56",
         "294.55"
        ],
        [
         "124",
         "1EA2B262-D507-AD14-4374-4D532967113F",
         "CcU-4562",
         "b-2278",
         "2021-08-04 11:21:27",
         "274.15",
         "0",
         "23, 31, 1",
         "210",
         "-45.634",
         "175.562",
         "23",
         "1EA2B262-D507-AD14-4374-4D532967113F",
         "23",
         "riverlands north",
         "169.96",
         "#545454",
         "2.7",
         "WH--18",
         "60",
         "416.09000000000003"
        ],
        [
         "125",
         "1EA2B262-D507-AD14-4374-4D532967113F",
         "CcU-4562",
         "b-2278",
         "2021-08-04 11:21:27",
         "274.15",
         "0",
         "23, 31, 1",
         "210",
         "-45.634",
         "175.562",
         "1",
         "1EA2B262-D507-AD14-4374-4D532967113F",
         "1",
         "Direwolf Stannis",
         "161.11",
         "#7c7c7c",
         "1.0",
         "WH-4",
         "51",
         "416.09000000000003"
        ],
        [
         "129",
         "20418DE5-B804-BE9B-BD7A-A95C1BFDBF5C",
         "CcU-2994",
         "b-2326",
         "2022-01-03 15:59:29",
         "479.52",
         "0",
         "89, 13",
         "126",
         "-79.1145",
         "1.51481",
         "89",
         "20418DE5-B804-BE9B-BD7A-A95C1BFDBF5C",
         "89",
         "skywalker ewok",
         "172.78",
         "#636363",
         "3.2",
         "WH--84",
         "46",
         "312.37"
        ],
        [
         "131",
         "2075B12D-69AB-7022-57BB-33ED49B72766",
         "CcU-4247",
         "b-2302",
         "2022-02-13 04:07:29",
         "87.44",
         "0",
         "23, 19",
         "229",
         "-9.03682",
         "88.9005",
         "23",
         "2075B12D-69AB-7022-57BB-33ED49B72766",
         "23",
         "riverlands north",
         "169.96",
         "#545454",
         "2.7",
         "WH--18",
         "60",
         "230.29000000000002"
        ],
        [
         "136",
         "22C9EC22-45FC-72C8-63CE-5FA99A24E770",
         "CcU-3645",
         "b-2618",
         "2021-06-11 16:08:49",
         "196.71",
         "0",
         "5, 97, 11, 13",
         "267",
         "28.4439",
         "-11.3959",
         "5",
         "22C9EC22-45FC-72C8-63CE-5FA99A24E770",
         "5",
         "skywalker ewok",
         "171.22",
         "#dbdbdb",
         "3.2",
         "WH-0",
         "42",
         "425.76"
        ],
        [
         "139",
         "239B8576-6C0E-137A-C2F6-3180A188A2D3",
         "CcU-2994",
         "b-2326",
         "2021-08-26 06:04:05",
         "43.9",
         "0",
         "89, 53, 41",
         "126",
         "23.6174",
         "137.222",
         "89",
         "239B8576-6C0E-137A-C2F6-3180A188A2D3",
         "89",
         "skywalker ewok",
         "172.78",
         "#636363",
         "3.2",
         "WH--84",
         "46",
         "451.6"
        ],
        [
         "142",
         "23CF8ED3-402C-7C54-59CD-DB505C5CCCCE",
         "CcU-3547",
         "b-2570",
         "2021-05-17 05:33:40",
         "425.64",
         "0",
         "61, 67, 1",
         "267",
         "30.4189",
         "-31.8902",
         "67",
         "23CF8ED3-402C-7C54-59CD-DB505C5CCCCE",
         "67",
         "Winterfell",
         "195.94",
         "#1c1c1c",
         "0.6",
         "WH--62",
         "59",
         "385.06"
        ],
        [
         "144",
         "23CF8ED3-402C-7C54-59CD-DB505C5CCCCE",
         "CcU-3547",
         "b-2570",
         "2021-05-17 05:33:40",
         "425.64",
         "0",
         "61, 67, 1",
         "267",
         "30.4189",
         "-31.8902",
         "1",
         "23CF8ED3-402C-7C54-59CD-DB505C5CCCCE",
         "1",
         "Direwolf Stannis",
         "161.11",
         "#7c7c7c",
         "1.0",
         "WH-4",
         "51",
         "385.06"
        ],
        [
         "149",
         "2449E458-D672-3152-B598-FE959AC3AEB6",
         "CcU-3225",
         "b-2386",
         "2021-04-25 23:15:39",
         "245.25",
         "0",
         "23, 71, 41, 5",
         "272",
         "-12.183",
         "-73.7255",
         "5",
         "2449E458-D672-3152-B598-FE959AC3AEB6",
         "5",
         "skywalker ewok",
         "171.22",
         "#dbdbdb",
         "3.2",
         "WH-0",
         "42",
         "585.9200000000001"
        ]
       ],
       "shape": {
        "columns": 20,
        "rows": 349
       }
      },
      "text/html": [
       "<div>\n",
       "<style scoped>\n",
       "    .dataframe tbody tr th:only-of-type {\n",
       "        vertical-align: middle;\n",
       "    }\n",
       "\n",
       "    .dataframe tbody tr th {\n",
       "        vertical-align: top;\n",
       "    }\n",
       "\n",
       "    .dataframe thead th {\n",
       "        text-align: right;\n",
       "    }\n",
       "</style>\n",
       "<table border=\"1\" class=\"dataframe\">\n",
       "  <thead>\n",
       "    <tr style=\"text-align: right;\">\n",
       "      <th></th>\n",
       "      <th>id_x</th>\n",
       "      <th>card_id</th>\n",
       "      <th>business_id</th>\n",
       "      <th>timestamp</th>\n",
       "      <th>amount</th>\n",
       "      <th>declined</th>\n",
       "      <th>products_id_x</th>\n",
       "      <th>user_id</th>\n",
       "      <th>lat</th>\n",
       "      <th>longitude</th>\n",
       "      <th>products_id_y</th>\n",
       "      <th>transaction_id</th>\n",
       "      <th>id_y</th>\n",
       "      <th>product_name</th>\n",
       "      <th>price</th>\n",
       "      <th>colour</th>\n",
       "      <th>weight</th>\n",
       "      <th>warehouse_id</th>\n",
       "      <th>count_prod</th>\n",
       "      <th>real_amount</th>\n",
       "    </tr>\n",
       "  </thead>\n",
       "  <tbody>\n",
       "    <tr>\n",
       "      <th>2</th>\n",
       "      <td>02C6201E-D90A-1859-B4EE-88D2986D3B02</td>\n",
       "      <td>CcU-2938</td>\n",
       "      <td>b-2362</td>\n",
       "      <td>2021-08-28 23:42:24</td>\n",
       "      <td>466.92</td>\n",
       "      <td>0</td>\n",
       "      <td>71, 1, 19</td>\n",
       "      <td>92</td>\n",
       "      <td>81.91850</td>\n",
       "      <td>-12.5276</td>\n",
       "      <td>1</td>\n",
       "      <td>02C6201E-D90A-1859-B4EE-88D2986D3B02</td>\n",
       "      <td>1</td>\n",
       "      <td>Direwolf Stannis</td>\n",
       "      <td>161.11</td>\n",
       "      <td>#7c7c7c</td>\n",
       "      <td>1.0</td>\n",
       "      <td>WH-4</td>\n",
       "      <td>51</td>\n",
       "      <td>325.17</td>\n",
       "    </tr>\n",
       "    <tr>\n",
       "      <th>6</th>\n",
       "      <td>063FBA79-99EC-66FB-29F7-25726D1764A5</td>\n",
       "      <td>CcU-2987</td>\n",
       "      <td>b-2250</td>\n",
       "      <td>2022-01-06 21:25:27</td>\n",
       "      <td>92.61</td>\n",
       "      <td>0</td>\n",
       "      <td>47, 67, 31, 5</td>\n",
       "      <td>275</td>\n",
       "      <td>-81.22270</td>\n",
       "      <td>-129.0500</td>\n",
       "      <td>67</td>\n",
       "      <td>063FBA79-99EC-66FB-29F7-25726D1764A5</td>\n",
       "      <td>67</td>\n",
       "      <td>Winterfell</td>\n",
       "      <td>195.94</td>\n",
       "      <td>#1c1c1c</td>\n",
       "      <td>0.6</td>\n",
       "      <td>WH--62</td>\n",
       "      <td>59</td>\n",
       "      <td>534.33</td>\n",
       "    </tr>\n",
       "    <tr>\n",
       "      <th>7</th>\n",
       "      <td>063FBA79-99EC-66FB-29F7-25726D1764A5</td>\n",
       "      <td>CcU-2987</td>\n",
       "      <td>b-2250</td>\n",
       "      <td>2022-01-06 21:25:27</td>\n",
       "      <td>92.61</td>\n",
       "      <td>0</td>\n",
       "      <td>47, 67, 31, 5</td>\n",
       "      <td>275</td>\n",
       "      <td>-81.22270</td>\n",
       "      <td>-129.0500</td>\n",
       "      <td>5</td>\n",
       "      <td>063FBA79-99EC-66FB-29F7-25726D1764A5</td>\n",
       "      <td>5</td>\n",
       "      <td>skywalker ewok</td>\n",
       "      <td>171.22</td>\n",
       "      <td>#dbdbdb</td>\n",
       "      <td>3.2</td>\n",
       "      <td>WH-0</td>\n",
       "      <td>42</td>\n",
       "      <td>534.33</td>\n",
       "    </tr>\n",
       "    <tr>\n",
       "      <th>10</th>\n",
       "      <td>0668296C-CDB9-A883-76BC-2E4C44F8C8AE</td>\n",
       "      <td>CcU-3743</td>\n",
       "      <td>b-2618</td>\n",
       "      <td>2022-01-26 02:07:14</td>\n",
       "      <td>394.18</td>\n",
       "      <td>0</td>\n",
       "      <td>89, 83, 79</td>\n",
       "      <td>265</td>\n",
       "      <td>-34.35930</td>\n",
       "      <td>-100.5560</td>\n",
       "      <td>89</td>\n",
       "      <td>0668296C-CDB9-A883-76BC-2E4C44F8C8AE</td>\n",
       "      <td>89</td>\n",
       "      <td>skywalker ewok</td>\n",
       "      <td>172.78</td>\n",
       "      <td>#636363</td>\n",
       "      <td>3.2</td>\n",
       "      <td>WH--84</td>\n",
       "      <td>46</td>\n",
       "      <td>332.15</td>\n",
       "    </tr>\n",
       "    <tr>\n",
       "      <th>21</th>\n",
       "      <td>1026DA24-8929-31F1-8250-D7BAB05C13D2</td>\n",
       "      <td>CcU-2959</td>\n",
       "      <td>b-2346</td>\n",
       "      <td>2021-12-07 09:30:38</td>\n",
       "      <td>465.31</td>\n",
       "      <td>0</td>\n",
       "      <td>89, 11, 97, 79</td>\n",
       "      <td>92</td>\n",
       "      <td>32.06460</td>\n",
       "      <td>-140.1470</td>\n",
       "      <td>89</td>\n",
       "      <td>1026DA24-8929-31F1-8250-D7BAB05C13D2</td>\n",
       "      <td>89</td>\n",
       "      <td>skywalker ewok</td>\n",
       "      <td>172.78</td>\n",
       "      <td>#636363</td>\n",
       "      <td>3.2</td>\n",
       "      <td>WH--84</td>\n",
       "      <td>46</td>\n",
       "      <td>420.59</td>\n",
       "    </tr>\n",
       "    <tr>\n",
       "      <th>...</th>\n",
       "      <td>...</td>\n",
       "      <td>...</td>\n",
       "      <td>...</td>\n",
       "      <td>...</td>\n",
       "      <td>...</td>\n",
       "      <td>...</td>\n",
       "      <td>...</td>\n",
       "      <td>...</td>\n",
       "      <td>...</td>\n",
       "      <td>...</td>\n",
       "      <td>...</td>\n",
       "      <td>...</td>\n",
       "      <td>...</td>\n",
       "      <td>...</td>\n",
       "      <td>...</td>\n",
       "      <td>...</td>\n",
       "      <td>...</td>\n",
       "      <td>...</td>\n",
       "      <td>...</td>\n",
       "      <td>...</td>\n",
       "    </tr>\n",
       "    <tr>\n",
       "      <th>1222</th>\n",
       "      <td>FCE2AB9A-271D-2BDC-9E49-8DD92A373391</td>\n",
       "      <td>CcU-4219</td>\n",
       "      <td>b-2302</td>\n",
       "      <td>2022-02-06 22:48:41</td>\n",
       "      <td>335.56</td>\n",
       "      <td>0</td>\n",
       "      <td>59, 5, 41, 37</td>\n",
       "      <td>152</td>\n",
       "      <td>1.51316</td>\n",
       "      <td>48.2748</td>\n",
       "      <td>5</td>\n",
       "      <td>FCE2AB9A-271D-2BDC-9E49-8DD92A373391</td>\n",
       "      <td>5</td>\n",
       "      <td>skywalker ewok</td>\n",
       "      <td>171.22</td>\n",
       "      <td>#dbdbdb</td>\n",
       "      <td>3.2</td>\n",
       "      <td>WH-0</td>\n",
       "      <td>42</td>\n",
       "      <td>453.66</td>\n",
       "    </tr>\n",
       "    <tr>\n",
       "      <th>1225</th>\n",
       "      <td>FD2E8957-414B-BEEC-E9AD-59AA7A8A6290</td>\n",
       "      <td>CcU-3232</td>\n",
       "      <td>b-2390</td>\n",
       "      <td>2022-03-13 00:27:34</td>\n",
       "      <td>78.29</td>\n",
       "      <td>0</td>\n",
       "      <td>83, 7, 17, 89</td>\n",
       "      <td>272</td>\n",
       "      <td>-24.31950</td>\n",
       "      <td>-11.4135</td>\n",
       "      <td>89</td>\n",
       "      <td>FD2E8957-414B-BEEC-E9AD-59AA7A8A6290</td>\n",
       "      <td>89</td>\n",
       "      <td>skywalker ewok</td>\n",
       "      <td>172.78</td>\n",
       "      <td>#636363</td>\n",
       "      <td>3.2</td>\n",
       "      <td>WH--84</td>\n",
       "      <td>46</td>\n",
       "      <td>354.51</td>\n",
       "    </tr>\n",
       "    <tr>\n",
       "      <th>1231</th>\n",
       "      <td>FD89D51B-AE8D-77DC-E450-B8083FBD3187</td>\n",
       "      <td>CcU-3960</td>\n",
       "      <td>b-2494</td>\n",
       "      <td>2022-03-16 02:35:05</td>\n",
       "      <td>200.72</td>\n",
       "      <td>0</td>\n",
       "      <td>3, 2, 73, 1</td>\n",
       "      <td>250</td>\n",
       "      <td>8.01217</td>\n",
       "      <td>-64.6715</td>\n",
       "      <td>2</td>\n",
       "      <td>FD89D51B-AE8D-77DC-E450-B8083FBD3187</td>\n",
       "      <td>2</td>\n",
       "      <td>Tarly Stark</td>\n",
       "      <td>9.24</td>\n",
       "      <td>#919191</td>\n",
       "      <td>2.0</td>\n",
       "      <td>WH-3</td>\n",
       "      <td>56</td>\n",
       "      <td>455.57</td>\n",
       "    </tr>\n",
       "    <tr>\n",
       "      <th>1232</th>\n",
       "      <td>FD89D51B-AE8D-77DC-E450-B8083FBD3187</td>\n",
       "      <td>CcU-3960</td>\n",
       "      <td>b-2494</td>\n",
       "      <td>2022-03-16 02:35:05</td>\n",
       "      <td>200.72</td>\n",
       "      <td>0</td>\n",
       "      <td>3, 2, 73, 1</td>\n",
       "      <td>250</td>\n",
       "      <td>8.01217</td>\n",
       "      <td>-64.6715</td>\n",
       "      <td>1</td>\n",
       "      <td>FD89D51B-AE8D-77DC-E450-B8083FBD3187</td>\n",
       "      <td>1</td>\n",
       "      <td>Direwolf Stannis</td>\n",
       "      <td>161.11</td>\n",
       "      <td>#7c7c7c</td>\n",
       "      <td>1.0</td>\n",
       "      <td>WH-4</td>\n",
       "      <td>51</td>\n",
       "      <td>455.57</td>\n",
       "    </tr>\n",
       "    <tr>\n",
       "      <th>1235</th>\n",
       "      <td>FE809ED4-2DB6-55AC-C915-929516E4646B</td>\n",
       "      <td>CcU-4849</td>\n",
       "      <td>b-2302</td>\n",
       "      <td>2021-11-09 21:35:40</td>\n",
       "      <td>219.83</td>\n",
       "      <td>0</td>\n",
       "      <td>23, 43</td>\n",
       "      <td>185</td>\n",
       "      <td>-46.07510</td>\n",
       "      <td>-142.2420</td>\n",
       "      <td>23</td>\n",
       "      <td>FE809ED4-2DB6-55AC-C915-929516E4646B</td>\n",
       "      <td>23</td>\n",
       "      <td>riverlands north</td>\n",
       "      <td>169.96</td>\n",
       "      <td>#545454</td>\n",
       "      <td>2.7</td>\n",
       "      <td>WH--18</td>\n",
       "      <td>60</td>\n",
       "      <td>229.76</td>\n",
       "    </tr>\n",
       "  </tbody>\n",
       "</table>\n",
       "<p>349 rows × 20 columns</p>\n",
       "</div>"
      ],
      "text/plain": [
       "                                      id_x   card_id business_id  \\\n",
       "2     02C6201E-D90A-1859-B4EE-88D2986D3B02  CcU-2938      b-2362   \n",
       "6     063FBA79-99EC-66FB-29F7-25726D1764A5  CcU-2987      b-2250   \n",
       "7     063FBA79-99EC-66FB-29F7-25726D1764A5  CcU-2987      b-2250   \n",
       "10    0668296C-CDB9-A883-76BC-2E4C44F8C8AE  CcU-3743      b-2618   \n",
       "21    1026DA24-8929-31F1-8250-D7BAB05C13D2  CcU-2959      b-2346   \n",
       "...                                    ...       ...         ...   \n",
       "1222  FCE2AB9A-271D-2BDC-9E49-8DD92A373391  CcU-4219      b-2302   \n",
       "1225  FD2E8957-414B-BEEC-E9AD-59AA7A8A6290  CcU-3232      b-2390   \n",
       "1231  FD89D51B-AE8D-77DC-E450-B8083FBD3187  CcU-3960      b-2494   \n",
       "1232  FD89D51B-AE8D-77DC-E450-B8083FBD3187  CcU-3960      b-2494   \n",
       "1235  FE809ED4-2DB6-55AC-C915-929516E4646B  CcU-4849      b-2302   \n",
       "\n",
       "               timestamp  amount  declined   products_id_x  user_id       lat  \\\n",
       "2    2021-08-28 23:42:24  466.92         0       71, 1, 19       92  81.91850   \n",
       "6    2022-01-06 21:25:27   92.61         0   47, 67, 31, 5      275 -81.22270   \n",
       "7    2022-01-06 21:25:27   92.61         0   47, 67, 31, 5      275 -81.22270   \n",
       "10   2022-01-26 02:07:14  394.18         0      89, 83, 79      265 -34.35930   \n",
       "21   2021-12-07 09:30:38  465.31         0  89, 11, 97, 79       92  32.06460   \n",
       "...                  ...     ...       ...             ...      ...       ...   \n",
       "1222 2022-02-06 22:48:41  335.56         0   59, 5, 41, 37      152   1.51316   \n",
       "1225 2022-03-13 00:27:34   78.29         0   83, 7, 17, 89      272 -24.31950   \n",
       "1231 2022-03-16 02:35:05  200.72         0     3, 2, 73, 1      250   8.01217   \n",
       "1232 2022-03-16 02:35:05  200.72         0     3, 2, 73, 1      250   8.01217   \n",
       "1235 2021-11-09 21:35:40  219.83         0          23, 43      185 -46.07510   \n",
       "\n",
       "      longitude products_id_y                        transaction_id id_y  \\\n",
       "2      -12.5276             1  02C6201E-D90A-1859-B4EE-88D2986D3B02    1   \n",
       "6     -129.0500            67  063FBA79-99EC-66FB-29F7-25726D1764A5   67   \n",
       "7     -129.0500             5  063FBA79-99EC-66FB-29F7-25726D1764A5    5   \n",
       "10    -100.5560            89  0668296C-CDB9-A883-76BC-2E4C44F8C8AE   89   \n",
       "21    -140.1470            89  1026DA24-8929-31F1-8250-D7BAB05C13D2   89   \n",
       "...         ...           ...                                   ...  ...   \n",
       "1222    48.2748             5  FCE2AB9A-271D-2BDC-9E49-8DD92A373391    5   \n",
       "1225   -11.4135            89  FD2E8957-414B-BEEC-E9AD-59AA7A8A6290   89   \n",
       "1231   -64.6715             2  FD89D51B-AE8D-77DC-E450-B8083FBD3187    2   \n",
       "1232   -64.6715             1  FD89D51B-AE8D-77DC-E450-B8083FBD3187    1   \n",
       "1235  -142.2420            23  FE809ED4-2DB6-55AC-C915-929516E4646B   23   \n",
       "\n",
       "          product_name   price   colour  weight warehouse_id  count_prod  \\\n",
       "2     Direwolf Stannis  161.11  #7c7c7c     1.0         WH-4          51   \n",
       "6           Winterfell  195.94  #1c1c1c     0.6       WH--62          59   \n",
       "7       skywalker ewok  171.22  #dbdbdb     3.2         WH-0          42   \n",
       "10      skywalker ewok  172.78  #636363     3.2       WH--84          46   \n",
       "21      skywalker ewok  172.78  #636363     3.2       WH--84          46   \n",
       "...                ...     ...      ...     ...          ...         ...   \n",
       "1222    skywalker ewok  171.22  #dbdbdb     3.2         WH-0          42   \n",
       "1225    skywalker ewok  172.78  #636363     3.2       WH--84          46   \n",
       "1231       Tarly Stark    9.24  #919191     2.0         WH-3          56   \n",
       "1232  Direwolf Stannis  161.11  #7c7c7c     1.0         WH-4          51   \n",
       "1235  riverlands north  169.96  #545454     2.7       WH--18          60   \n",
       "\n",
       "      real_amount  \n",
       "2          325.17  \n",
       "6          534.33  \n",
       "7          534.33  \n",
       "10         332.15  \n",
       "21         420.59  \n",
       "...           ...  \n",
       "1222       453.66  \n",
       "1225       354.51  \n",
       "1231       455.57  \n",
       "1232       455.57  \n",
       "1235       229.76  \n",
       "\n",
       "[349 rows x 20 columns]"
      ]
     },
     "execution_count": 29,
     "metadata": {},
     "output_type": "execute_result"
    }
   ],
   "source": [
    "bestsellers_df"
   ]
  },
  {
   "cell_type": "code",
   "execution_count": 30,
   "metadata": {},
   "outputs": [
    {
     "data": {
      "image/png": "[encoded data removed]",
      "text/plain": [
       "<Figure size 663.125x500 with 6 Axes>"
      ]
     },
     "metadata": {},
     "output_type": "display_data"
    }
   ],
   "source": [
    "product_price = sns.pairplot(bestsellers_df, vars=['price', 'weight'], hue='product_name', palette='colorblind', diag_kind='hist')\n",
    "product_price._legend.set_title('Nom del producte')\n",
    "plt.suptitle('Pairplot del preu per producte i la quantitat de compres per usuari', y=1.02)\n",
    "plt.show()"
   ]
  },
  {
   "cell_type": "markdown",
   "metadata": {},
   "source": [
    "#### ANÀLISI DEL GRÀFIC\n",
    "\n",
    "Aquest pairplot ens mostra la relació entre preu i pes dels productes bestsellers. Observem que el producte més car del nostre catàleg dins de la categoria 'Bestsellers' (Winterfell) té un dels preus més elevats i és relativament lleuger. Aquesta dada és interessant ja que és un producte que no ens suposa una despesa d'enviament tan gran com altres productes més pesats i, al mateix temps, ens dóna molts beneficis pel seu preu. \n",
    "\n",
    "D'altra banda, el producte més barat dins dels Bestsellers (Tarly Stark), té un pes mitjà. Caldria valorar si les despeses logístiques per a la seva distribució compensen el baix preu del producte. \n",
    "\n",
    "Cal destacar el producte Direwolf Stannis, el qual ens apareix com a un mateix producte amb característiques diferents (hi ha una diferència en pes i preu entre els dos models que presenta aquest producte). En aquest sentit cal valorar, quin dels dos models s'està venent més i cercar un preu o bé mitjà, o decantar-nos pel preu més elevat per tal d'obtenir més beneficis per a la nostra empresa sobre un producte que s'està venent molt. Igualment, cal analitzar les diferències en pes per tal d'acotar el preu amb la necessitat logística de distribució del producte per a obtenir el màxim benefici. \n",
    "\n",
    "Per últim, un altre producte que presenta dos valors diferenciats és Skywalker Ewok. La curiositat d'aquest producte és que ambdós models tenen unes característiques pràcticament iguals, per tant, caldría valorar la necessitat de produïr els dos models en relació a despeses logístiques. \n",
    "\n"
   ]
  }
 ],
 "metadata": {
  "kernelspec": {
   "display_name": "ironhack",
   "language": "python",
   "name": "python3"
  },
  "language_info": {
   "codemirror_mode": {
    "name": "ipython",
    "version": 3
   },
   "file_extension": ".py",
   "mimetype": "text/x-python",
   "name": "python",
   "nbconvert_exporter": "python",
   "pygments_lexer": "ipython3",
   "version": "3.10.15"
  }
 },
 "nbformat": 4,
 "nbformat_minor": 2
}
