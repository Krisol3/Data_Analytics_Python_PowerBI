{
 "cells": [
  {
   "cell_type": "markdown",
   "metadata": {},
   "source": [
    "# SPRINT S8.02. PowerBI amb Python"
   ]
  },
  {
   "cell_type": "markdown",
   "metadata": {},
   "source": [
    "Aquesta tasca consisteix en l'elaboració d'un informe de Power BI, aprofitant les capacitats analítiques de Python. S'utilitzaran els scripts de Python creats prèviament en la Tasca 1 per a generar visualitzacions personalitzades amb les biblioteques Seaborn i Matplotlib. Aquestes visualitzacions seran integrades en l'informe de Power BI per a oferir una comprensió més profunda de la capacitat del llenguatge de programació en l'eina Power BI."
   ]
  },
  {
   "cell_type": "markdown",
   "metadata": {},
   "source": [
    "Per a poder treballar amb Python a PowerBI hem instal.lat el mòdul de Python PyMsql que ens permet connectar l'script de Python mitjançant l'opció de carregar dades > altres > Script de Python. "
   ]
  },
  {
   "cell_type": "code",
   "execution_count": 1,
   "metadata": {},
   "outputs": [
    {
     "name": "stdout",
     "output_type": "stream",
     "text": [
      "Tabla cards_status cargada exitosamente.\n",
      "Tabla companies cargada exitosamente.\n",
      "Tabla credit_card cargada exitosamente.\n",
      "Tabla products cargada exitosamente.\n",
      "Tabla products_numbers cargada exitosamente.\n",
      "Tabla transactions cargada exitosamente.\n",
      "Tabla users cargada exitosamente.\n"
     ]
    },
    {
     "name": "stderr",
     "output_type": "stream",
     "text": [
      "C:\\Users\\Cristina\\AppData\\Local\\Temp\\ipykernel_12116\\4211847509.py:20: UserWarning: pandas only supports SQLAlchemy connectable (engine/connection) or database string URI or sqlite3 DBAPI2 connection. Other DBAPI2 objects are not tested. Please consider using SQLAlchemy.\n",
      "  df = pd.read_sql_query(f\"SELECT * FROM {nombre_tabla}\", connection)\n"
     ]
    }
   ],
   "source": [
    "import pymysql\n",
    "import pandas as pd\n",
    "\n",
    "# Conectar a la base de datos\n",
    "connection = pymysql.connect(\n",
    "    host='localhost',\n",
    "    user='root',\n",
    "    password='Gael2023',\n",
    "    database='sales'\n",
    ")\n",
    "\n",
    "cursor = connection.cursor()\n",
    "cursor.execute(\"SHOW TABLES\")\n",
    "tabla = [t[0] for t in cursor.fetchall()]\n",
    "\n",
    "#Modifiquem el nom de dataframes a datasets per a no tenir incompatibilitats de nomenclatura amb PowerBI\n",
    "datasets = {}\n",
    "\n",
    "for nombre_tabla in tabla:\n",
    "    df = pd.read_sql_query(f\"SELECT * FROM {nombre_tabla}\", connection)\n",
    "    datasets[nombre_tabla] = df\n",
    "    print(f\"Tabla {nombre_tabla} cargada exitosamente.\")\n",
    "\n",
    "cursor.close()\n",
    "connection.close()"
   ]
  },
  {
   "cell_type": "markdown",
   "metadata": {},
   "source": [
    "Abans però de començar a treballar amb PowerBI hem extret les taules del diccionari amb les que volem treballar per a poder operar amb elles."
   ]
  },
  {
   "cell_type": "code",
   "execution_count": 2,
   "metadata": {},
   "outputs": [],
   "source": [
    "df_transactions = datasets['transactions']\n",
    "df_products = datasets['products']\n",
    "df_users = datasets['users']\n",
    "df_prod_numbers = datasets['products_numbers']"
   ]
  },
  {
   "cell_type": "markdown",
   "metadata": {},
   "source": [
    "## NIVELL 1"
   ]
  },
  {
   "cell_type": "markdown",
   "metadata": {},
   "source": [
    "### Exercici 1: Una variable numèrica: Script de PowerBI"
   ]
  },
  {
   "cell_type": "code",
   "execution_count": null,
   "metadata": {},
   "outputs": [
    {
     "ename": "NameError",
     "evalue": "name 'dataset' is not defined",
     "output_type": "error",
     "traceback": [
      "\u001b[1;31m---------------------------------------------------------------------------\u001b[0m",
      "\u001b[1;31mNameError\u001b[0m                                 Traceback (most recent call last)",
      "Cell \u001b[1;32mIn[3], line 5\u001b[0m\n\u001b[0;32m      2\u001b[0m \u001b[38;5;28;01mimport\u001b[39;00m \u001b[38;5;21;01mmatplotlib\u001b[39;00m\u001b[38;5;21;01m.\u001b[39;00m\u001b[38;5;21;01mpyplot\u001b[39;00m \u001b[38;5;28;01mas\u001b[39;00m \u001b[38;5;21;01mplt\u001b[39;00m\n\u001b[0;32m      3\u001b[0m \u001b[38;5;28;01mimport\u001b[39;00m \u001b[38;5;21;01mseaborn\u001b[39;00m \u001b[38;5;28;01mas\u001b[39;00m \u001b[38;5;21;01msns\u001b[39;00m\n\u001b[1;32m----> 5\u001b[0m df_products \u001b[38;5;241m=\u001b[39m \u001b[43mdataset\u001b[49m\u001b[38;5;241m.\u001b[39mdrop_duplicates()\n\u001b[0;32m      7\u001b[0m \u001b[38;5;66;03m# Crear el gráfic\u001b[39;00m\n\u001b[0;32m      8\u001b[0m plt\u001b[38;5;241m.\u001b[39mfigure(figsize\u001b[38;5;241m=\u001b[39m(\u001b[38;5;241m12\u001b[39m, \u001b[38;5;241m6\u001b[39m))\n",
      "\u001b[1;31mNameError\u001b[0m: name 'dataset' is not defined"
     ]
    }
   ],
   "source": [
    "import pandas as pd\n",
    "import matplotlib.pyplot as plt\n",
    "import seaborn as sns\n",
    "\n",
    "df_products = dataset.drop_duplicates()\n",
    "\n",
    "# Crear el gráfic\n",
    "plt.figure(figsize=(12, 6))\n",
    "sns.histplot(data=df_products, x='price', binwidth=5, edgecolor='white')\n",
    "plt.title('Distribució dels preus dels productes')\n",
    "plt.xlabel('Preu del producte($)')\n",
    "plt.ylabel('Freqüència')\n",
    "plt.tight_layout()\n",
    "plt.show()"
   ]
  },
  {
   "cell_type": "markdown",
   "metadata": {},
   "source": [
    "### Exercici 2 : Dues variables numèriques. Script de PowerBI"
   ]
  },
  {
   "cell_type": "code",
   "execution_count": null,
   "metadata": {},
   "outputs": [],
   "source": [
    "import pandas as pd\n",
    "import matplotlib.pyplot as plt\n",
    "import seaborn as sns\n",
    "\n",
    "dataset = dataset.drop_duplicates()\n",
    "dataset['id'] = dataset['id'].astype(str)\n",
    "products_sold = dataset[dataset['declined'] == 0]\n",
    "count_prod = dataset['id'].value_counts().reset_index()\n",
    "count_prod.columns = ['id', 'count_prod']\n",
    "df_prod_sold = dataset.merge(count_prod, on='id', how='left')\n",
    "\n",
    "# Crear el gráfic\n",
    "plt.figure(figsize=(10, 6))\n",
    "sns.scatterplot(data=df_prod_sold, x='price', y='id', size='count_prod', sizes=(100, 1000), hue='count_prod', palette='viridis', legend='full')\n",
    "plt.title('Relació entre preu i quantitat de productes venuts')\n",
    "plt.legend(title='Quantitat Venuda', bbox_to_anchor=(1.05, 1), loc='upper left')\n",
    "plt.xlabel('Preu dels productes($)')\n",
    "plt.ylabel('ID dels productes')\n",
    "plt.tight_layout()\n",
    "plt.show()"
   ]
  },
  {
   "cell_type": "markdown",
   "metadata": {},
   "source": [
    "### Exercici 3: Una variable categòrica. Script de PowerBI"
   ]
  },
  {
   "cell_type": "code",
   "execution_count": null,
   "metadata": {},
   "outputs": [],
   "source": [
    "import seaborn as sns\n",
    "import matplotlib.pyplot as plt\n",
    "\n",
    "# Crear el gráfic\n",
    "plt.figure(figsize=(12, 6))\n",
    "sns.countplot(data=dataset, x='product_name')\n",
    "plt.title('Quantitat de productes venuts per nom de producte')\n",
    "plt.xlabel('Nom de producte')\n",
    "plt.ylabel('Quantitat de productes venuts')\n",
    "plt.xticks(rotation=75, ha='right', fontsize=9)\n",
    "plt.tight_layout()\n",
    "plt.show()"
   ]
  },
  {
   "cell_type": "markdown",
   "metadata": {},
   "source": [
    "### Exercici 4: Una variable categòrica i una numèrica. Script de PowerBI"
   ]
  },
  {
   "cell_type": "code",
   "execution_count": null,
   "metadata": {},
   "outputs": [],
   "source": [
    "import pandas as pd\n",
    "import matplotlib.pyplot as plt\n",
    "import seaborn as sns\n",
    "\n",
    "df_prod_sold = dataset[dataset['declined']==0]\n",
    "df_prod_sold['real_amount'] = df_prod_sold.groupby('id')['price'].transform('sum')\n",
    "df_buyers = df_prod_sold.groupby('country')['real_amount'].sum().reset_index()\n",
    "\n",
    "# Crear el gráfic\n",
    "plt.figure(figsize=(10, 6))\n",
    "sns.barplot(data=df_buyers, x='country', y='real_amount')\n",
    "plt.title('Volum de ventes per país dels compradors')\n",
    "plt.xlabel('País')\n",
    "plt.ylabel('Ventes obtingudes en $')\n",
    "plt.xticks(rotation=45)\n",
    "plt.tight_layout()\n",
    "plt.show()"
   ]
  },
  {
   "cell_type": "markdown",
   "metadata": {},
   "source": [
    "### Exercici 5: Dues variables categòriques. Script de PowerBI"
   ]
  },
  {
   "cell_type": "code",
   "execution_count": null,
   "metadata": {},
   "outputs": [],
   "source": [
    "import matplotlib.pyplot as plt\n",
    "import pandas as pd\n",
    "import seaborn as sns\n",
    "\n",
    "prod_returned = dataset[dataset['declined'] == 1].groupby(['product_name']).size().reset_index(name='returned')\n",
    "prod_sold = dataset[dataset['declined'] == 0]['product_name'].value_counts().reset_index(name='sold')\n",
    "prod_sold.columns = ['product_name', 'sold']\n",
    "df_combined = pd.merge(prod_returned, prod_sold, on='product_name', how='outer').fillna(0)\n",
    "\n",
    "# Crear el gráfic\n",
    "fig, ax = plt.subplots(figsize=(14, 7))\n",
    "x = range(len(df_combined['product_name']))\n",
    "ax.bar(x, df_combined['returned'], label='Retornats', color='skyblue')\n",
    "ax.bar(x, df_combined['sold'], label='Venuts', bottom=df_combined['returned'])\n",
    "ax.set_title('Comparativa de productes venuts i retornats')\n",
    "ax.set_xlabel('Nom del Producte')\n",
    "ax.set_ylabel('Número de unitats')\n",
    "ax.set_xticks(x)\n",
    "ax.set_xticklabels(df_combined['product_name'], rotation=60, fontsize=9, ha='right')\n",
    "plt.legend()\n",
    "plt.tight_layout()\n",
    "plt.show()"
   ]
  },
  {
   "cell_type": "markdown",
   "metadata": {},
   "source": [
    "### Exercici 6: Tres variables. Script de PowerBI"
   ]
  },
  {
   "cell_type": "code",
   "execution_count": null,
   "metadata": {},
   "outputs": [],
   "source": [
    "import pandas as pd\n",
    "import matplotlib.pyplot as plt\n",
    "import seaborn as sns\n",
    "\n",
    "dataset = dataset.drop_duplicates()\n",
    "\n",
    "bestsellers = dataset['product_name'].value_counts().nlargest(5).index\n",
    "bestsellers_df = dataset[dataset['product_name'].isin(bestsellers)]\n",
    "user_product_counts = bestsellers_df.groupby(['product_name', 'user_id']).size().reset_index(name='num_compres')\n",
    "recurrent_buyers = user_product_counts[user_product_counts['num_compres'] > 1]\n",
    "user_best_seller_count = recurrent_buyers.groupby('user_id')['product_name'].nunique()\n",
    "required_count = len(bestsellers)\n",
    "final_users = user_best_seller_count[user_best_seller_count == required_count]\n",
    "topbuyers = recurrent_buyers[recurrent_buyers['user_id'].isin(final_users.index)]\n",
    "\n",
    "# Crear el gráfic\n",
    "plt.figure(figsize=(14, 7))\n",
    "sns.barplot(data=topbuyers, y='product_name', x='num_compres', hue='user_id', dodge=True, palette='colorblind')\n",
    "plt.title('Compres de bestsellers per usuari que han comprat més de 1 vegada')\n",
    "plt.ylabel('Nom del Producte')\n",
    "plt.xlabel('Número de compres per usuari')\n",
    "plt.legend(title='ID de Usuario', bbox_to_anchor=(1.05, 1), loc='upper left', fontsize='small')\n",
    "plt.tight_layout()\n",
    "plt.show()"
   ]
  },
  {
   "cell_type": "markdown",
   "metadata": {},
   "source": [
    "### Exercici 7: Graficar un Pairplot. Script de PowerBI"
   ]
  },
  {
   "cell_type": "code",
   "execution_count": null,
   "metadata": {},
   "outputs": [],
   "source": [
    "import pandas as pd\n",
    "import seaborn as sns\n",
    "import matplotlib.pyplot as plt\n",
    "\n",
    "bestsellers = dataset['product_name'].value_counts().nlargest(5).index\n",
    "bestsellers_df = dataset[dataset['product_name'].isin(bestsellers)]\n",
    "\n",
    "# Crear el gráfic\n",
    "product_price = sns.pairplot(bestsellers_df, vars=['price', 'weight'], hue='product_name', palette='colorblind', diag_kind='hist')\n",
    "product_price._legend.set_title('Nom del producte')\n",
    "plt.suptitle('Pairplot del preu per producte i la quantitat de compres per usuari')\n",
    "plt.show()"
   ]
  }
 ],
 "metadata": {
  "kernelspec": {
   "display_name": "ironhack",
   "language": "python",
   "name": "python3"
  },
  "language_info": {
   "codemirror_mode": {
    "name": "ipython",
    "version": 3
   },
   "file_extension": ".py",
   "mimetype": "text/x-python",
   "name": "python",
   "nbconvert_exporter": "python",
   "pygments_lexer": "ipython3",
   "version": "3.10.15"
  }
 },
 "nbformat": 4,
 "nbformat_minor": 2
}
